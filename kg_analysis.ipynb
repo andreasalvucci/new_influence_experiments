{
 "cells": [
  {
   "cell_type": "code",
   "execution_count": 1,
   "metadata": {},
   "outputs": [],
   "source": [
    "import pandas as pd\n",
    "import matplotlib.pyplot as plt\n",
    "import rdflib\n",
    "import numpy as np\n",
    "from tqdm import tqdm"
   ]
  },
  {
   "cell_type": "code",
   "execution_count": 2,
   "metadata": {},
   "outputs": [],
   "source": [
    "FIGURES_PREFIX = \"meetups\"\n",
    "graph = rdflib.Graph().parse(\"resources/meetups.ttl\")"
   ]
  },
  {
   "cell_type": "code",
   "execution_count": 10,
   "metadata": {},
   "outputs": [],
   "source": [
    "artists = list(graph.query(\"\"\"\n",
    "PREFIX dul: <http://www.ontologydesignpatterns.org/ont/dul/DUL.owl#>\n",
    "PREFIX owl: <http://www.w3.org/2002/07/owl#>\n",
    "PREFIX rdfs: <http://www.w3.org/2000/01/rdf-schema#>\n",
    "PREFIX core: <https://w3id.org/polifonia/ontology/core/>\n",
    "PREFIX mm: <https://w3id.org/polifonia/ontology/music-meta/>\n",
    "PREFIX mrs: <https://w3id.org/polifonia/ontology/relationship/>\n",
    "PREFIX ponr: <https://w3id.org/polifonia/resource/>\n",
    "\n",
    "SELECT DISTINCT ?s\n",
    "WHERE {\n",
    "  ?s ?rel ?t .\n",
    "  FILTER (?s != ?t)\n",
    "}\n",
    "\"\"\"))"
   ]
  },
  {
   "cell_type": "code",
   "execution_count": 14,
   "metadata": {},
   "outputs": [
    {
     "data": {
      "text/plain": [
       "(rdflib.term.URIRef('http://dbpedia.org/resource/Joey_Baron'),)"
      ]
     },
     "execution_count": 14,
     "metadata": {},
     "output_type": "execute_result"
    }
   ],
   "source": [
    "artists[0]"
   ]
  },
  {
   "cell_type": "code",
   "execution_count": 12,
   "metadata": {},
   "outputs": [],
   "source": [
    "inf_graph = rdflib.Graph().parse(\"resources/all_music.ttl\")"
   ]
  },
  {
   "cell_type": "code",
   "execution_count": 16,
   "metadata": {},
   "outputs": [],
   "source": [
    "inf_artists = list(inf_graph.query(\"\"\"\n",
    "PREFIX dul: <http://www.ontologydesignpatterns.org/ont/dul/DUL.owl#>\n",
    "PREFIX owl: <http://www.w3.org/2002/07/owl#>\n",
    "PREFIX rdfs: <http://www.w3.org/2000/01/rdf-schema#>\n",
    "PREFIX core: <https://w3id.org/polifonia/ontology/core/>\n",
    "PREFIX mm: <https://w3id.org/polifonia/ontology/music-meta/>\n",
    "PREFIX mrs: <https://w3id.org/polifonia/ontology/relationship/>\n",
    "PREFIX ponr: <https://w3id.org/polifonia/resource/>\n",
    "prefix infpred: <https://w3id.org/influence/relation/>\n",
    "prefix infres:  <https://w3id.org/influence/resource/>\n",
    "\n",
    "SELECT DISTINCT ?sL\n",
    "WHERE {\n",
    "  ?s infpred:influencedBy ?t ;\n",
    "     rdfs:label ?sL .\n",
    "  FILTER (?s != ?t)\n",
    "}\n",
    "\"\"\"))"
   ]
  },
  {
   "cell_type": "code",
   "execution_count": 40,
   "metadata": {},
   "outputs": [],
   "source": [
    "mm_artists_map = {\" \".join(str(x[0]).split(\"/\")[-1].split(\"_\")).split(\" (\")[0]: str(x[0]) for x in artists}\n",
    "mm_artists_str = list(mm_artists_map.keys())\n",
    "inf_artists_str = [str(x[0]) for x in inf_artists]"
   ]
  },
  {
   "cell_type": "code",
   "execution_count": 25,
   "metadata": {},
   "outputs": [],
   "source": [
    "import tfidf_matcher as tm"
   ]
  },
  {
   "cell_type": "code",
   "execution_count": 33,
   "metadata": {},
   "outputs": [],
   "source": [
    "match = tm.matcher(inf_artists_str, mm_artists_str, k_matches=1, ngram_length=3)"
   ]
  },
  {
   "cell_type": "code",
   "execution_count": 41,
   "metadata": {},
   "outputs": [],
   "source": [
    "match_map = {x[\"Original Name\"]: mm_artists_map[x[\"Lookup 1\"]] for _, x in match[match[\"Lookup 1 Confidence\"] > 0.8].iterrows()}"
   ]
  },
  {
   "cell_type": "code",
   "execution_count": 55,
   "metadata": {},
   "outputs": [
    {
     "data": {
      "text/plain": [
       "[(rdflib.term.Literal('12580', datatype=rdflib.term.URIRef('http://www.w3.org/2001/XMLSchema#integer')),)]"
      ]
     },
     "execution_count": 55,
     "metadata": {},
     "output_type": "execute_result"
    }
   ],
   "source": [
    "list(graph.query(\"\"\"\n",
    "PREFIX dul: <http://www.ontologydesignpatterns.org/ont/dul/DUL.owl#>\n",
    "PREFIX owl: <http://www.w3.org/2002/07/owl#>\n",
    "PREFIX rdfs: <http://www.w3.org/2000/01/rdf-schema#>\n",
    "PREFIX core: <https://w3id.org/polifonia/ontology/core/>\n",
    "PREFIX mm: <https://w3id.org/polifonia/ontology/music-meta/>\n",
    "PREFIX mrs: <https://w3id.org/polifonia/ontology/relationship/>\n",
    "PREFIX ponr: <https://w3id.org/polifonia/resource/>\n",
    "\n",
    "SELECT (COUNT(*) AS ?c)\n",
    "WHERE {\n",
    "  ?s mrs:admires ?t .\n",
    "}\n",
    "\"\"\"))"
   ]
  },
  {
   "cell_type": "code",
   "execution_count": 49,
   "metadata": {},
   "outputs": [],
   "source": [
    "for s, _, t in inf_graph.triples((None, rdflib.URIRef(\"https://w3id.org/influence/relation/influencedBy\"), None)):\n",
    "  try:\n",
    "    s_label = str(next(inf_graph.objects(subject=s, predicate=rdflib.RDFS.label)))\n",
    "    t_label = str(next(inf_graph.objects(subject=t, predicate=rdflib.RDFS.label)))\n",
    "\n",
    "    if s_label in match_map and t_label in match_map:\n",
    "      s_aligned = rdflib.URIRef(match_map[s_label])\n",
    "      t_aligned = rdflib.URIRef(match_map[t_label])\n",
    "      graph.add((s_aligned, rdflib.URIRef(\"https://w3id.org/polifonia/ontology/relationship/admires\"), t_aligned))\n",
    "  except:\n",
    "    pass"
   ]
  },
  {
   "cell_type": "code",
   "execution_count": 56,
   "metadata": {},
   "outputs": [
    {
     "data": {
      "text/plain": [
       "3723"
      ]
     },
     "execution_count": 56,
     "metadata": {},
     "output_type": "execute_result"
    }
   ],
   "source": [
    "len(match)"
   ]
  },
  {
   "cell_type": "code",
   "execution_count": 50,
   "metadata": {},
   "outputs": [
    {
     "data": {
      "text/plain": [
       "<Graph identifier=N3d19e3b444274f7c802cbf1639c7cc8e (<class 'rdflib.graph.Graph'>)>"
      ]
     },
     "execution_count": 50,
     "metadata": {},
     "output_type": "execute_result"
    }
   ],
   "source": [
    "graph.serialize(\"resources/meetups_with_allmusic_influence.ttl\")"
   ]
  },
  {
   "cell_type": "code",
   "execution_count": 47,
   "metadata": {},
   "outputs": [
    {
     "data": {
      "text/plain": [
       "'Emmylou Harris'"
      ]
     },
     "execution_count": 47,
     "metadata": {},
     "output_type": "execute_result"
    }
   ],
   "source": [
    "str(next(inf_graph.objects(subject=s, predicate=rdflib.RDFS.label)))"
   ]
  },
  {
   "cell_type": "markdown",
   "metadata": {},
   "source": [
    "## Plot stats"
   ]
  },
  {
   "cell_type": "code",
   "execution_count": 3,
   "metadata": {},
   "outputs": [
    {
     "data": {
      "text/html": [
       "<div>\n",
       "<style scoped>\n",
       "    .dataframe tbody tr th:only-of-type {\n",
       "        vertical-align: middle;\n",
       "    }\n",
       "\n",
       "    .dataframe tbody tr th {\n",
       "        vertical-align: top;\n",
       "    }\n",
       "\n",
       "    .dataframe thead th {\n",
       "        text-align: right;\n",
       "    }\n",
       "</style>\n",
       "<table border=\"1\" class=\"dataframe\">\n",
       "  <thead>\n",
       "    <tr style=\"text-align: right;\">\n",
       "      <th></th>\n",
       "      <th>0</th>\n",
       "    </tr>\n",
       "  </thead>\n",
       "  <tbody>\n",
       "    <tr>\n",
       "      <th>Acquaintanceship</th>\n",
       "      <td>1074606</td>\n",
       "    </tr>\n",
       "    <tr>\n",
       "      <th>Bandmate</th>\n",
       "      <td>219828</td>\n",
       "    </tr>\n",
       "    <tr>\n",
       "      <th>Fellowship</th>\n",
       "      <td>666154</td>\n",
       "    </tr>\n",
       "    <tr>\n",
       "      <th>Friendship</th>\n",
       "      <td>246294</td>\n",
       "    </tr>\n",
       "  </tbody>\n",
       "</table>\n",
       "</div>"
      ],
      "text/plain": [
       "                        0\n",
       "Acquaintanceship  1074606\n",
       "Bandmate           219828\n",
       "Fellowship         666154\n",
       "Friendship         246294"
      ]
     },
     "execution_count": 3,
     "metadata": {},
     "output_type": "execute_result"
    }
   ],
   "source": [
    "res = graph.query(\"\"\"\n",
    "PREFIX dul: <http://www.ontologydesignpatterns.org/ont/dul/DUL.owl#>\n",
    "PREFIX owl: <http://www.w3.org/2002/07/owl#>\n",
    "PREFIX rdfs: <http://www.w3.org/2000/01/rdf-schema#>\n",
    "PREFIX core: <https://w3id.org/polifonia/ontology/core/>\n",
    "PREFIX mm: <https://w3id.org/polifonia/ontology/music-meta/>\n",
    "PREFIX mrs: <https://w3id.org/polifonia/ontology/relationship/>\n",
    "PREFIX ponr: <https://w3id.org/polifonia/resource/>\n",
    "\n",
    "SELECT ?rel (COUNT(?rel) AS ?c)\n",
    "WHERE {\n",
    "  ?s ?rel ?t .\n",
    "  FILTER (?s != ?t)\n",
    "}\n",
    "GROUP BY ?rel\n",
    "ORDER BY ?rel\n",
    "\"\"\")\n",
    "\n",
    "rel_map = {\n",
    "  \"hasBandmate\": \"Bandmate\",\n",
    "  \"hasFellow\": \"Fellowship\",\n",
    "  \"hasFriend\": \"Friendship\",\n",
    "  \"hasAcquaintance\": \"Acquaintanceship\",\n",
    "}\n",
    "\n",
    "relationships_data = {rel_map[str(rel).split(\"/\")[-1]]: int(count) for rel, count in list(res)}\n",
    "\n",
    "df = pd.DataFrame.from_dict(relationships_data, orient=\"index\")\n",
    "df"
   ]
  },
  {
   "cell_type": "code",
   "execution_count": 4,
   "metadata": {},
   "outputs": [
    {
     "data": {
      "image/png": "[encoded data removed]",
      "text/plain": [
       "<Figure size 500x300 with 1 Axes>"
      ]
     },
     "metadata": {},
     "output_type": "display_data"
    }
   ],
   "source": [
    "plt.figure(figsize=(5, 3))\n",
    "bars = plt.barh(df.index, df.iloc[:, 0], color='#b3e2cd')\n",
    "\n",
    "\n",
    "for bar in bars:\n",
    "  plt.text(bar.get_width(), bar.get_y() + bar.get_height()/2, f'{bar.get_width():.0f}', \n",
    "           va='center', ha='left', fontsize=10, rotation=270)\n",
    "\n",
    "plt.savefig(f\"figures/{FIGURES_PREFIX}_relations_distribution.png\", bbox_inches=\"tight\", dpi=300)"
   ]
  },
  {
   "cell_type": "markdown",
   "metadata": {},
   "source": [
    "## Count how often two relationships co-occur"
   ]
  },
  {
   "cell_type": "code",
   "execution_count": 5,
   "metadata": {},
   "outputs": [
    {
     "data": {
      "image/png": "[encoded data removed]",
      "text/plain": [
       "<Figure size 800x600 with 2 Axes>"
      ]
     },
     "metadata": {},
     "output_type": "display_data"
    }
   ],
   "source": [
    "res = graph.query(\"\"\"\n",
    "PREFIX dul: <http://www.ontologydesignpatterns.org/ont/dul/DUL.owl#>\n",
    "PREFIX owl: <http://www.w3.org/2002/07/owl#>\n",
    "PREFIX rdfs: <http://www.w3.org/2000/01/rdf-schema#>\n",
    "PREFIX core: <https://w3id.org/polifonia/ontology/core/>\n",
    "PREFIX mm: <https://w3id.org/polifonia/ontology/music-meta/>\n",
    "PREFIX mrs: <https://w3id.org/polifonia/ontology/relationship/>\n",
    "PREFIX ponr: <https://w3id.org/polifonia/resource/>\n",
    "\n",
    "SELECT ?rel_a ?rel_b (COUNT(*) AS ?c)\n",
    "WHERE {\n",
    "  ?s ?rel_a ?t .\n",
    "  ?s ?rel_b ?t .\n",
    "  FILTER (?s != ?t)\n",
    "  FILTER (?rel_a != ?rel_b)\n",
    "}\n",
    "GROUP BY ?rel_a ?rel_b\n",
    "ORDER BY DESC(?rel_a) ?rel_b\n",
    "\"\"\")\n",
    "\n",
    "co_occurrence_data = [\n",
    "  (rel_map[str(rel_a).split(\"/\")[-1]], rel_map[str(rel_b).split(\"/\")[-1]], int(count))\n",
    "   for rel_a, rel_b, count in list(res)]\n",
    "\n",
    "names = list(set([x for x, _, _ in co_occurrence_data]))\n",
    "\n",
    "co_occurrence = np.zeros((len(names), len(names)))\n",
    "\n",
    "for x, y, v in co_occurrence_data:\n",
    "  x_idx = names.index(x)\n",
    "  y_idx = names.index(y)\n",
    "  co_occurrence[x_idx, y_idx] = v\n",
    "\n",
    "plt.figure(figsize=(8, 6))\n",
    "heatmap = plt.imshow(co_occurrence, cmap=\"GnBu\")\n",
    "\n",
    "# Add value labels\n",
    "for i in range(co_occurrence.shape[0]):\n",
    "    for j in range(co_occurrence.shape[1]):\n",
    "        plt.text(j, i, int(co_occurrence[i, j]), ha='center', va='center', color='black', fontsize=12)\n",
    "\n",
    "plt.colorbar(heatmap)\n",
    "plt.xticks(ticks=np.arange(len(names)), labels=names, rotation=90)\n",
    "plt.yticks(ticks=np.arange(len(names)), labels=names)\n",
    "\n",
    "plt.savefig(f\"figures/{FIGURES_PREFIX}_co_occurrence.png\", bbox_inches=\"tight\", dpi=300)"
   ]
  },
  {
   "cell_type": "markdown",
   "metadata": {},
   "source": [
    "## A simple baseline"
   ]
  },
  {
   "cell_type": "code",
   "execution_count": 6,
   "metadata": {},
   "outputs": [],
   "source": [
    "# graph = rdflib.Graph().parse(\"resources/linked_jazz.nt\")\n",
    "\n",
    "# artists = [x for x, _, _ in graph.triples((None, rdflib.RDF.type, rdflib.URIRef(\"https://w3id.org/polifonia/ontology/music-meta/MusicArtist\")))]\n",
    "# relationship_types = ['Mentorship', 'Bandmate', 'Acquaintanceship', 'Friendship', 'Admiration']\n",
    "\n",
    "# data_matrix = np.zeros((len(artists), len(artists), len(relationship_types)))\n",
    "\n",
    "# for artist_idx, artist in tqdm(list(enumerate(artists))):\n",
    "#   res = graph.query(\"\"\"\n",
    "#   PREFIX dul: <http://www.ontologydesignpatterns.org/ont/dul/DUL.owl#>\n",
    "#   PREFIX mrs: <https://w3id.org/polifonia/ontology/relationship/>\n",
    "#   SELECT ?t ?rel\n",
    "#   WHERE {\n",
    "#     [] mrs:hasSource <%s> ;\n",
    "#       mrs:hasTarget ?t ;\n",
    "#       dul:isClassifiedBy ?rel .\n",
    "#   }\"\"\" % str(artist))\n",
    "  \n",
    "#   for other, rel in res:  \n",
    "#     other_idx = artists.index(other)\n",
    "#     r_idx = relationship_types.index(str(rel).split(\"/\")[-1])\n",
    "#     data_matrix[artist_idx, other_idx, r_idx] = 1"
   ]
  },
  {
   "cell_type": "code",
   "execution_count": 7,
   "metadata": {},
   "outputs": [],
   "source": [
    "# from sklearn.model_selection import train_test_split, cross_validate\n",
    "# from sklearn.metrics import recall_score\n",
    "# from sklearn.tree import DecisionTreeClassifier\n",
    "# from sklearn.svm import LinearSVC\n",
    "# from sklearn.naive_bayes import MultinomialNB, GaussianNB\n",
    "# from sklearn.linear_model import LinearRegression\n",
    "# from sklearn.neural_network import MLPClassifier\n",
    "\n",
    "# X = data_matrix[:, :, :-1].reshape(-1, 4)\n",
    "# y = data_matrix[:, :, -1].reshape(-1)\n",
    "\n",
    "# X_train, X_test, y_train, y_test = train_test_split(X, y, test_size=0.33, random_state=42, stratify=y)"
   ]
  },
  {
   "cell_type": "code",
   "execution_count": 8,
   "metadata": {},
   "outputs": [],
   "source": [
    "# clfs = [DecisionTreeClassifier(), GaussianNB(), LinearSVC()]\n",
    "# for clf in clfs:\n",
    "#   pred = clf.fit(X_train, y_train).predict(X_test)\n",
    "#   print(clf, recall_score(pred, y_test))"
   ]
  }
 ],
 "metadata": {
  "kernelspec": {
   "display_name": "infres",
   "language": "python",
   "name": "python3"
  },
  "language_info": {
   "codemirror_mode": {
    "name": "ipython",
    "version": 3
   },
   "file_extension": ".py",
   "mimetype": "text/x-python",
   "name": "python",
   "nbconvert_exporter": "python",
   "pygments_lexer": "ipython3",
   "version": "3.11.4"
  }
 },
 "nbformat": 4,
 "nbformat_minor": 2
}
