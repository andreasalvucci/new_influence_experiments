{
 "cells": [
  {
   "cell_type": "code",
   "execution_count": 222,
   "id": "d1bbf9e4",
   "metadata": {},
   "outputs": [],
   "source": [
    "import networkx as nx\n",
    "import rdflib\n",
    "from rdflib.extras.external_graph_libs import rdflib_to_networkx_digraph\n",
    "from rdflib import Dataset\n",
    "from networkx import Graph as NXGraph\n",
    "import statistics\n",
    "import collections\n",
    "import numpy as np\n",
    "from SPARQLWrapper import SPARQLWrapper, JSON\n",
    "from math import factorial\n",
    "from scipy.linalg import expm\n",
    "from copy import copy\n",
    "from scipy.sparse.linalg import eigs"
   ]
  },
  {
   "cell_type": "markdown",
   "id": "b1f7822f",
   "metadata": {},
   "source": [
    "## KG exploration"
   ]
  },
  {
   "cell_type": "code",
   "execution_count": 223,
   "id": "6ab26749",
   "metadata": {},
   "outputs": [],
   "source": [
    "dataset = Dataset()\n",
    "dataset.parse(\"resources/linked-jazz.trig\", format=\"trig\")\n",
    "\n",
    "# take the relationship graph\n",
    "lj = next(g for g in dataset.graphs() if \"relationships\" in str(g))\n",
    "lj_G = rdflib_to_networkx_digraph(lj)"
   ]
  },
  {
   "cell_type": "markdown",
   "id": "1415902a",
   "metadata": {},
   "source": [
    "List predicates in the KG"
   ]
  },
  {
   "cell_type": "markdown",
   "id": "36c2d804",
   "metadata": {},
   "source": [
    "Build the weighted graph"
   ]
  },
  {
   "cell_type": "code",
   "execution_count": 224,
   "id": "568bc351",
   "metadata": {},
   "outputs": [],
   "source": [
    "WEIGHTS_MAP = {\n",
    "    rdflib.term.URIRef('http://linkedjazz.org/ontology/inBandTogether'): 0.8,\n",
    "    rdflib.term.URIRef('http://linkedjazz.org/ontology/playedTogether'): 0.8,\n",
    "    rdflib.term.URIRef('http://linkedjazz.org/ontology/touredWith'): 0.9,\n",
    "    rdflib.term.URIRef('http://purl.org/ontology/mo/collaborated_with'): 0.8,\n",
    "    rdflib.term.URIRef('http://purl.org/vocab/relationship/acquaintanceOf'): 0.6,\n",
    "    rdflib.term.URIRef('http://purl.org/vocab/relationship/friendOf'): 0.7,\n",
    "    rdflib.term.URIRef('http://purl.org/vocab/relationship/hasMet'): 0.2,\n",
    "    rdflib.term.URIRef('http://purl.org/vocab/relationship/knowsOf'): 0.1,\n",
    "    rdflib.term.URIRef('http://purl.org/vocab/relationship/mentorOf'): 0.9\n",
    "}\n",
    "\n",
    "for i, j in lj_G.edges:\n",
    "    lj_G[i][j]['weight'] = 0\n",
    "    for s, p, o in lj_G[i][j]['triples']:\n",
    "        lj_G[i][j]['weight'] += WEIGHTS_MAP.get(p, 0)"
   ]
  },
  {
   "cell_type": "markdown",
   "id": "6debf4f1",
   "metadata": {},
   "source": [
    "Compute the centrality due to the eigenvectors"
   ]
  },
  {
   "cell_type": "code",
   "execution_count": 225,
   "id": "8ef7b6c2",
   "metadata": {},
   "outputs": [],
   "source": [
    "ec = nx.eigenvector_centrality(lj_G, weight=\"weight\")"
   ]
  },
  {
   "cell_type": "markdown",
   "id": "305cc192",
   "metadata": {},
   "source": [
    "Print the top 10 most influential artists. The label is queried directly from the LinkedJazz KG through a SPARQL query."
   ]
  },
  {
   "cell_type": "code",
   "execution_count": 226,
   "id": "317a69f5",
   "metadata": {},
   "outputs": [
    {
     "name": "stdout",
     "output_type": "stream",
     "text": [
      "0.37577864573377373 - Sonny Payne\n",
      "0.3623081289539205 - Eddie \"Lockjaw\" Davis\n",
      "0.3065684168072057 - Eva Jessye\n",
      "0.2786985607338483 - Bill Hughes (musician)\n",
      "0.2656548289783715 - Louis Armstrong\n",
      "0.2605886802410346 - Count Basie\n",
      "0.25519900471608215 - Miles Davis\n",
      "0.18766970746297487 - Eubie Blake\n",
      "0.16814097077664972 - Cat Anderson\n",
      "0.136681431450689 - Dizzy Gillespie\n"
     ]
    }
   ],
   "source": [
    "def get_dbpedia_label(iri):\n",
    "  sparql = SPARQLWrapper(\"https://dbpedia.org/sparql\")\n",
    "  sparql.setReturnFormat(JSON)\n",
    "  sparql.setQuery(\"\"\"\n",
    "  SELECT ?label\n",
    "  WHERE {\n",
    "    <%s> rdfs:label ?label .\n",
    "    FILTER(LANGMATCHES(LANG(?label), \\\"en\\\"))\n",
    "  }\n",
    "  \"\"\" % iri)\n",
    "  \n",
    "  try:\n",
    "    ret = sparql.queryAndConvert()\n",
    "    label = ret[\"results\"][\"bindings\"][0][\"label\"][\"value\"]\n",
    "  except:\n",
    "    label = iri\n",
    "  return label\n",
    "\n",
    "for k in sorted(ec, key=ec.get, reverse=True)[:10]:\n",
    "    label = get_dbpedia_label(str(k))\n",
    "    print(f\"{ec[k]} - {label}\")"
   ]
  },
  {
   "cell_type": "markdown",
   "id": "63cd0913",
   "metadata": {},
   "source": [
    "## Adjacency matrix experiments"
   ]
  },
  {
   "cell_type": "code",
   "execution_count": 227,
   "id": "4dfa3244",
   "metadata": {},
   "outputs": [],
   "source": [
    "def truncated_graph_power_exp(graph: nx.Graph, degree: int) -> np.array:\n",
    "  \"\"\"\n",
    "  Compute the trucated matrix power exponential using Taylor series expansion.\n",
    "\n",
    "  Args:\n",
    "      graph (nx.Graph): Input NetworkX grpah.\n",
    "      degree (int): Tatlor degree of the polynomial\n",
    "\n",
    "  Returns:\n",
    "      np.array: Adjacency matrix\n",
    "  \"\"\"\n",
    "  adj = nx.to_numpy_array(graph)\n",
    "  powadj = adj\n",
    "  res = adj\n",
    "  for i in range(2, degree + 1):\n",
    "      powadj = np.matmul(powadj, adj)\n",
    "      coeff = 1 / factorial(i)\n",
    "      res = res + (coeff * powadj)\n",
    "  return res"
   ]
  },
  {
   "cell_type": "code",
   "execution_count": 228,
   "id": "0a487ba2",
   "metadata": {},
   "outputs": [],
   "source": [
    "#lj_G_exp = truncated_graph_power_exp(lj_G, 8)\n",
    "lj_G_exp = expm(nx.to_numpy_array(lj_G))"
   ]
  },
  {
   "cell_type": "markdown",
   "id": "835b2232",
   "metadata": {},
   "source": [
    "How much did Miles Davis influence Herbie Hancock? What about Count Basie?\n",
    "\n",
    "Generally, the influence of Miles Davis should be much higher, since Hancock mention him as one of his main inspirations."
   ]
  },
  {
   "cell_type": "code",
   "execution_count": 229,
   "id": "63ec6b7e",
   "metadata": {},
   "outputs": [],
   "source": [
    "miles_davis_idx = list(lj_G.nodes()).index(rdflib.URIRef(\"http://dbpedia.org/resource/Miles_Davis\"))\n",
    "count_basie_idx = list(lj_G.nodes()).index(rdflib.URIRef(\"http://dbpedia.org/resource/Count_Basie\"))\n",
    "herbie_hancock_idx = list(lj_G.nodes()).index(rdflib.URIRef(\"http://dbpedia.org/resource/Herbie_Hancock\"))"
   ]
  },
  {
   "cell_type": "code",
   "execution_count": 230,
   "id": "d2948810",
   "metadata": {},
   "outputs": [
    {
     "name": "stdout",
     "output_type": "stream",
     "text": [
      "Miles Davis influence in Herbie Hancock: 0.0\n"
     ]
    }
   ],
   "source": [
    "cp_row = lj_G_exp[herbie_hancock_idx, :]\n",
    "cp_column = lj_G_exp[:,herbie_hancock_idx]\n",
    "#print(f\"Miles Davis influence in Herbie Hancock: {cp_row[miles_davis_idx]}\")\n",
    "print(f\"Miles Davis influence in Herbie Hancock: {cp_column[miles_davis_idx]}\")"
   ]
  },
  {
   "cell_type": "code",
   "execution_count": 231,
   "id": "c9ab87da",
   "metadata": {},
   "outputs": [
    {
     "name": "stdout",
     "output_type": "stream",
     "text": [
      "Count Basie influence in Herbie Hancock: -4.5283122514043744e-17\n"
     ]
    }
   ],
   "source": [
    "#print(f\"Count Basie influence in Herbie Hancock: {cp_row[count_basie_idx]}\")\n",
    "print(f\"Count Basie influence in Herbie Hancock: {cp_column[count_basie_idx]}\")"
   ]
  },
  {
   "cell_type": "markdown",
   "id": "5c24d3b5",
   "metadata": {},
   "source": [
    "Artists to which Herbie Hancock was most influential:"
   ]
  },
  {
   "cell_type": "code",
   "execution_count": 232,
   "id": "a5be0c0d",
   "metadata": {},
   "outputs": [
    {
     "name": "stdout",
     "output_type": "stream",
     "text": [
      "34.77133415629574: Miles Davis\n",
      "26.373434381231153: Count Basie\n",
      "25.555514211132927: Sonny Payne\n",
      "24.59191687653131: Eddie \"Lockjaw\" Davis\n",
      "21.410006065725455: Louis Armstrong\n",
      "20.80854504937265: Eva Jessye\n",
      "18.91685913579332: Bill Hughes (musician)\n",
      "16.070351385383148: Cat Anderson\n",
      "14.665982613625443: Dizzy Gillespie\n",
      "13.914349499482768: Ron Carter\n",
      "12.727545238298575: Eubie Blake\n",
      "12.666060023292417: Chick Corea\n",
      "12.448869295314312: Duke Ellington\n",
      "11.545187838779743: Harry Carney\n",
      "10.034513550531983: Louie Bellson\n",
      "9.774690731986185: Oscar Peterson\n",
      "9.510121767717289: http://dbpedia.org/resource/Alex_Acu%C3%B1a\n",
      "9.0717232648635: Don Redman\n",
      "8.96276692581977: Donald Byrd\n",
      "8.951778742239433: Gil Evans\n"
     ]
    }
   ],
   "source": [
    "for k in np.argsort(cp_row)[::-1][:20]:\n",
    "  print(f\"{cp_row[k]}: {get_dbpedia_label(list(lj_G.nodes)[k])}\")"
   ]
  },
  {
   "cell_type": "markdown",
   "id": "72418455",
   "metadata": {},
   "source": [
    "Most influential artists to Herbie Hancock:"
   ]
  },
  {
   "cell_type": "code",
   "execution_count": 233,
   "id": "2ad55e24",
   "metadata": {},
   "outputs": [
    {
     "name": "stdout",
     "output_type": "stream",
     "text": [
      "5.432373965073532: Herbie Hancock\n",
      "2.811387471969732: Ron Carter\n",
      "2.059632554933481: Buster Williams\n",
      "2.0331858407106167: Marian McPartland\n",
      "1.464220564758246: Dave Brubeck\n",
      "1.4410811741966136: Charles Davis (saxophonist)\n",
      "0.699253980228743: Jane Jarvis\n",
      "0.6974400927904667: Slide Hampton\n",
      "0.32702435598107354: Delfeayo Marsalis\n",
      "0.2056553499074212: Abbey Lincoln\n",
      "0.14199702823241972: Milt Hinton\n",
      "0.1383394232886428: Jimmy Owens (musician)\n",
      "0.09382453539603997: Louie Bellson\n",
      "0.0419851172215363: Oscar Peterson\n",
      "0.0397822748028104: Annie Ross\n",
      "0.030350022258218614: http://linkedjazz.org/resource/Stanley_Kay\n",
      "0.02870879493429242: http://linkedjazz.org/resource/Mona_Hinton\n",
      "0.019277505765461313: Buddy DeFranco\n",
      "0.016524214940614085: Toshiko Akiyoshi\n",
      "0.010966964584295797: Sam Rivers\n"
     ]
    }
   ],
   "source": [
    "for k in np.argsort(cp_column)[::-1][:20]:\n",
    "  print(f\"{cp_column[k]}: {get_dbpedia_label(list(lj_G.nodes)[k])}\")"
   ]
  },
  {
   "cell_type": "markdown",
   "id": "5a91bc68",
   "metadata": {},
   "source": [
    "## Random walk clustering\n",
    "\n",
    "The idea is to recursively cut the graph into binary partitions $S$ and $S^c$ such that, given the stationary probability vector $\\pi$ for a random walk in the graph, the probability with which the random walk in the graph jumps from $S$ to $S^c$ is minimized. In https://dennyzhou.github.io/papers/LLUD.pdf, at page 6 is shown how to obtain such a cut.\n",
    "\n",
    "In our case, we have first to guarantee the existence of a stationary probability vector. In order to do so, we first make sure that the random walk always performs a random jump when reaching a leaf. Moreover, in order to guarantee aperiodicity we also perform a convex combination of the obtained transition matrix and a random jump in every node (similarly to what is done with PageRank algorithm)."
   ]
  },
  {
   "cell_type": "code",
   "execution_count": 260,
   "id": "c1e69642",
   "metadata": {},
   "outputs": [],
   "source": [
    "A = nx.to_numpy_array(lj_G)"
   ]
  },
  {
   "cell_type": "code",
   "execution_count": 276,
   "id": "f76411cb",
   "metadata": {},
   "outputs": [
    {
     "data": {
      "text/plain": [
       "array([[0. , 0.1, 0. , ..., 0. , 0. , 0. ],\n",
       "       [0. , 0. , 0. , ..., 0. , 0. , 0. ],\n",
       "       [0.3, 0. , 0. , ..., 0. , 0. , 0.1],\n",
       "       ...,\n",
       "       [0. , 0. , 0. , ..., 0. , 0. , 0. ],\n",
       "       [0. , 0. , 0. , ..., 0. , 0. , 0. ],\n",
       "       [0. , 0. , 0. , ..., 0. , 0. , 0. ]])"
      ]
     },
     "execution_count": 276,
     "metadata": {},
     "output_type": "execute_result"
    }
   ],
   "source": [
    "A"
   ]
  },
  {
   "cell_type": "code",
   "execution_count": 277,
   "id": "6ce4fe90",
   "metadata": {},
   "outputs": [],
   "source": [
    "B=copy(A)\n",
    "N = len(B)"
   ]
  },
  {
   "cell_type": "code",
   "execution_count": 278,
   "id": "bbd0276f",
   "metadata": {},
   "outputs": [],
   "source": [
    "for i in range(N):\n",
    "    sumi = sum(B[i])\n",
    "    if sumi ==0 :\n",
    "         for j in range(N):\n",
    "            B[i][j] = 1/N\n",
    "    else:\n",
    "         for j in range(N):\n",
    "            B[i][j] = B[i][j]/sumi"
   ]
  },
  {
   "cell_type": "code",
   "execution_count": 279,
   "id": "d7059940",
   "metadata": {},
   "outputs": [
    {
     "data": {
      "text/plain": [
       "array([[0.        , 0.00134048, 0.        , ..., 0.        , 0.        ,\n",
       "        0.        ],\n",
       "       [0.00051573, 0.00051573, 0.00051573, ..., 0.00051573, 0.00051573,\n",
       "        0.00051573],\n",
       "       [0.00675676, 0.        , 0.        , ..., 0.        , 0.        ,\n",
       "        0.00225225],\n",
       "       ...,\n",
       "       [0.00051573, 0.00051573, 0.00051573, ..., 0.00051573, 0.00051573,\n",
       "        0.00051573],\n",
       "       [0.00051573, 0.00051573, 0.00051573, ..., 0.00051573, 0.00051573,\n",
       "        0.00051573],\n",
       "       [0.00051573, 0.00051573, 0.00051573, ..., 0.00051573, 0.00051573,\n",
       "        0.00051573]])"
      ]
     },
     "execution_count": 279,
     "metadata": {},
     "output_type": "execute_result"
    }
   ],
   "source": [
    "B"
   ]
  },
  {
   "cell_type": "code",
   "execution_count": 280,
   "id": "d189f276",
   "metadata": {},
   "outputs": [],
   "source": [
    "jump = np.full((N,N),1/N)\n",
    "B = 0.99*B + 0.01 * jump"
   ]
  },
  {
   "cell_type": "code",
   "execution_count": 281,
   "id": "fcc56aad",
   "metadata": {},
   "outputs": [
    {
     "data": {
      "text/plain": [
       "1.0000000000000258"
      ]
     },
     "execution_count": 281,
     "metadata": {},
     "output_type": "execute_result"
    }
   ],
   "source": [
    "sum(B[0])"
   ]
  },
  {
   "cell_type": "code",
   "execution_count": 282,
   "id": "29f4a69c",
   "metadata": {},
   "outputs": [],
   "source": [
    "bigeig = eigs(B.T , k = 1, which = 'LM')[1][:,0]"
   ]
  },
  {
   "cell_type": "code",
   "execution_count": 283,
   "id": "a49d7922",
   "metadata": {},
   "outputs": [],
   "source": [
    "piprova = bigeig/sum(bigeig)"
   ]
  },
  {
   "cell_type": "code",
   "execution_count": 284,
   "id": "f80d9f8e",
   "metadata": {},
   "outputs": [
    {
     "data": {
      "text/plain": [
       "array([0.00060317+0.j, 0.0005009 +0.j, 0.00050022+0.j, ...,\n",
       "       0.00050193+0.j, 0.00050186+0.j, 0.00050117+0.j])"
      ]
     },
     "execution_count": 284,
     "metadata": {},
     "output_type": "execute_result"
    }
   ],
   "source": [
    "piprova"
   ]
  },
  {
   "cell_type": "code",
   "execution_count": 285,
   "id": "ff649009",
   "metadata": {},
   "outputs": [],
   "source": [
    "for i in range(len(piprova)):\n",
    "    piprova[i] = np.sqrt(piprova[i])"
   ]
  },
  {
   "cell_type": "code",
   "execution_count": 286,
   "id": "0994324b",
   "metadata": {},
   "outputs": [
    {
     "data": {
      "text/plain": [
       "array([0.02455945+0.j, 0.02238089+0.j, 0.02236553+0.j, ...,\n",
       "       0.02240383+0.j, 0.0224022 +0.j, 0.02238693+0.j])"
      ]
     },
     "execution_count": 286,
     "metadata": {},
     "output_type": "execute_result"
    }
   ],
   "source": [
    "piprova"
   ]
  },
  {
   "cell_type": "code",
   "execution_count": 289,
   "id": "9278ec78",
   "metadata": {},
   "outputs": [],
   "source": [
    "piprovainv = copy(piprova)"
   ]
  },
  {
   "cell_type": "code",
   "execution_count": 290,
   "id": "cc08f1b1",
   "metadata": {},
   "outputs": [],
   "source": [
    "for i in range(len(piprovainv)):\n",
    "    piprovainv[i] = 1/piprovainv[i]"
   ]
  },
  {
   "cell_type": "code",
   "execution_count": 293,
   "id": "2a7c106c",
   "metadata": {},
   "outputs": [],
   "source": [
    "piprovainv = np.diag(piprovainv)"
   ]
  },
  {
   "cell_type": "code",
   "execution_count": 297,
   "id": "f257f3be",
   "metadata": {},
   "outputs": [],
   "source": [
    "piprova = np.diag(piprova)"
   ]
  },
  {
   "cell_type": "code",
   "execution_count": 298,
   "id": "4368277d",
   "metadata": {},
   "outputs": [],
   "source": [
    "bigtheta = np.matmul(piprova, np.matmul(B,piprovainv)) + np.matmul(piprovainv, np.matmul(B.T,piprova))/2"
   ]
  },
  {
   "cell_type": "code",
   "execution_count": 299,
   "id": "77e924b0",
   "metadata": {},
   "outputs": [
    {
     "data": {
      "text/plain": [
       "array([[0.00011604+0.j, 0.0015702 +0.j, 0.00273527+0.j, ...,\n",
       "        0.00032003+0.j, 0.00032002+0.j, 0.00031992+0.j],\n",
       "       [0.00113759+0.j, 0.00077359+0.j, 0.00055474+0.j, ...,\n",
       "        0.00077333+0.j, 0.00077335+0.j, 0.00077353+0.j],\n",
       "       [0.00534312+0.j, 0.00033535+0.j, 0.00011604+0.j, ...,\n",
       "        0.00033553+0.j, 0.00033552+0.j, 0.00224798+0.j],\n",
       "       ...,\n",
       "       [0.00051286+0.j, 0.00077386+0.j, 0.00055523+0.j, ...,\n",
       "        0.00077359+0.j, 0.00077361+0.j, 0.00077379+0.j],\n",
       "       [0.00051283+0.j, 0.00077384+0.j, 0.00055519+0.j, ...,\n",
       "        0.00077358+0.j, 0.00077359+0.j, 0.00077377+0.j],\n",
       "       [0.00051254+0.j, 0.00077366+0.j, 0.00151116+0.j, ...,\n",
       "        0.0007734 +0.j, 0.00077342+0.j, 0.00077359+0.j]])"
      ]
     },
     "execution_count": 299,
     "metadata": {},
     "output_type": "execute_result"
    }
   ],
   "source": [
    "bigtheta"
   ]
  },
  {
   "cell_type": "code",
   "execution_count": 304,
   "id": "0190809b",
   "metadata": {},
   "outputs": [],
   "source": [
    "eigtheta = eigs(bigtheta , k = 2, which = 'LM')[1][:,1]"
   ]
  },
  {
   "cell_type": "code",
   "execution_count": 305,
   "id": "aa5deb62",
   "metadata": {},
   "outputs": [
    {
     "data": {
      "text/plain": [
       "array([-0.01425534-0.01999879j, -0.01299082-0.01822479j,\n",
       "       -0.0129819 -0.01821229j, ..., -0.01300413-0.01824347j,\n",
       "       -0.01300319-0.01824215j, -0.01299432-0.01822971j])"
      ]
     },
     "execution_count": 305,
     "metadata": {},
     "output_type": "execute_result"
    }
   ],
   "source": [
    "eigtheta"
   ]
  },
  {
   "cell_type": "code",
   "execution_count": 295,
   "id": "210cb6f7",
   "metadata": {},
   "outputs": [],
   "source": [
    "def ncut(matrix, alpha = 0.99):\n",
    "    N = len(matrix)\n",
    "    workingmatrix = copy(matrix)\n",
    "    #We normalize each row in the adjacency matrix in such a way that each row sums to 1.\n",
    "    #If the corresponding node is a leaf (each entry is 0), we implement a random jump from there.\n",
    "    \n",
    "    for i in range(N):\n",
    "        sumi = sum(workingmatrix[i])\n",
    "        if sumi==0:\n",
    "            for j in range(N):\n",
    "                workingmatrix[i][j] = 1/N\n",
    "        else:\n",
    "            for j in range(N):\n",
    "                workingmatrix[i][j] = i[j]/sumi\n",
    "    \n",
    "    #Now we replace this transition matrix with a convex combination of itself and a random jump:\n",
    "    \n",
    "    rjump = np.full((N,N), 1/N)\n",
    "    workingmatrix = (alpha*workingmatrix) + (1-alpha)*rjump\n",
    "    \n",
    "    #Now we are able to compute the stationary probability vector:\n",
    "    tmatrix = copy(workingmatrix)\n",
    "    tmatrix = tmatrix.transpose()\n",
    "    bigeig = eigs(tmatrix , k = 1, which = 'LM')[1][:,0] #it SHOULD return the eigenvector associated to the largest eigvalue (1)\n",
    "    pi = bigeig/sum(bigeig)\n",
    "    for i in range(len(pi)):\n",
    "        pi[i] = np.sqrt(pi[i])\n",
    "    piinv = copy(pi)\n",
    "    for i in range(len(pi)):\n",
    "        piinv[i] = 1/piinv[i]\n",
    "    pi = np.diag(pi)\n",
    "    piinv = np.diag(pi)\n",
    "    \n",
    "    bigtheta = np.matmul(pi, np.matmul(workingmatrix,piinv)) + np.matmul(piinv, np.matmul(workingmatrix.T,pi))/2\n",
    "    \n",
    "    "
   ]
  },
  {
   "cell_type": "markdown",
   "id": "6b051414",
   "metadata": {},
   "source": [
    "\n",
    "\n",
    "## A vector implementation\n",
    "\n",
    "The idea is to use an `Embedding` layer, which assigns a tensor to an index, to represent the weights of the relations.\n",
    "\n",
    "If we have $R$ relations, then the input to the network will be the adjacency matrix for each relation. \n",
    "With $N$ the number of nodes, the input to the network is a matrix of the form $x^{N \\times N \\times R}$.\n",
    "\n",
    "We can then leverage NN models to approximate the weights."
   ]
  },
  {
   "cell_type": "code",
   "execution_count": 96,
   "id": "3dce33a9",
   "metadata": {},
   "outputs": [],
   "source": [
    "from typing import List\n",
    "import torch\n",
    "from torch import nn\n",
    "import torch.nn.functional as F\n",
    "from collections import defaultdict\n",
    "\n",
    "INFLUENCED_BY_PRED = rdflib.URIRef(\"http://purl.org/vocab/relationship/influencedBy\")\n",
    "\n",
    "class SumIRWE(nn.Module):\n",
    "  def __init__(self, graph: rdflib.Graph, target_pred: rdflib.URIRef, comunicability_degree: float = 8, device: str = \"cuda:0\"):\n",
    "    super().__init__()\n",
    "    self.device = device\n",
    "    self.c_degree = comunicability_degree\n",
    "\n",
    "    self.graph = graph\n",
    "    self.relations = list(set(self.graph.predicates()) - { target_pred })\n",
    "    self.nx_graph = rdflib_to_networkx_digraph(self.graph)\n",
    "\n",
    "    # build the input graph by building several different directed graphs that only contains nodes connected by a specific predicate\n",
    "    self.input = None\n",
    "    for rel in self.relations:\n",
    "      sub_g = nx.DiGraph()\n",
    "      sub_g.add_nodes_from(self.nx_graph.nodes)\n",
    "      sub_g.add_edges_from(self.graph.subject_objects(rel))\n",
    "\n",
    "      # 1 x N x N\n",
    "      sub_g_adj = torch.tensor(nx.to_numpy_array(sub_g)).unsqueeze(0)\n",
    "\n",
    "      # |R| x N x N\n",
    "      self.input = sub_g_adj if self.input is None else torch.cat([self.input, sub_g_adj])\n",
    "    self.input = self.input.to(self.device)\n",
    "\n",
    "    # build the target graph\n",
    "    self.target_pred = target_pred\n",
    "    target_g = nx.DiGraph()\n",
    "    target_g.add_nodes_from(self.nx_graph.nodes)\n",
    "    target_g.add_edges_from(self.graph.subject_objects(target_pred))\n",
    "    self.target = torch.tensor(nx.to_numpy_array(target_g))\n",
    "    self.target = self.target.to(self.device)\n",
    "\n",
    "    # NN definition\n",
    "    self.relation_embedding = nn.Embedding(len(self.relations), 1)\n",
    "    self.linear = nn.Linear(self.target.shape[0], self.target.shape[0])\n",
    "    \n",
    "    self.double()\n",
    "\n",
    "  @staticmethod\n",
    "  def compute_communication_matrix(input_adj: torch.tensor, power: int) -> torch.tensor:\n",
    "    initial_graph = input_adj\n",
    "    graph_power = input_adj\n",
    "    for i in range(2, power + 1):\n",
    "      graph_power = torch.mm(graph_power, initial_graph)\n",
    "      coeff = torch.tensor(1 / factorial(i))\n",
    "      input_adj = input_adj + (coeff * graph_power)\n",
    "    \n",
    "    return input_adj\n",
    "\n",
    "  def forward(self):\n",
    "    # prepare a weight for each relation\n",
    "    relations_idxs = torch.arange(len(self.relations)).to(self.device)\n",
    "    \n",
    "    # compute weight of each relation\n",
    "    relation_weight = self.relation_embedding(relations_idxs)\n",
    "\n",
    "    # weight input by casting the weights to |R| x 1 x 1\n",
    "    w_input = self.input * relation_weight.reshape(-1, 1, 1)\n",
    "\n",
    "    # combine weights (using sum)\n",
    "    w_input = w_input.sum(dim=0)\n",
    "\n",
    "    # compute comunicability up to X degree\n",
    "    w_input = SumIRWE.compute_communication_matrix(w_input, self.c_degree)\n",
    "    w_input = self.linear(w_input)\n",
    "    \n",
    "    # compute cross entropy loss: the problem is a classification problem\n",
    "    loss = F.cross_entropy(w_input, self.target)\n",
    "    return loss, w_input\n",
    "\n",
    "  def evaluate(self, k: int):\n",
    "    influenced = defaultdict(list)\n",
    "    for s, o in self.graph.subject_objects(self.target_pred):\n",
    "      influenced[s].append(o)\n",
    "\n",
    "    _, adj = self.forward()\n",
    "    precisions = []\n",
    "    recalls = []\n",
    "    f1s = []\n",
    "    for artist, influences in influenced.items():\n",
    "      artist_idx = list(self.nx_graph.nodes()).index(artist)\n",
    "      influenced_row = adj[artist_idx, :]\n",
    "  \n",
    "      top_idxs = torch.flip(torch.argsort(influenced_row), (0,))\n",
    "  \n",
    "      relevant = set(influences)\n",
    "      retrieved = set([list(self.nx_graph.nodes())[i] for i in torch.flip(torch.argsort(influenced_row), (0,))[:k]])\n",
    "\n",
    "      precisions.append(len(set(relevant).intersection(retrieved)) / len(retrieved))\n",
    "      recalls.append(len(set(relevant).intersection(retrieved)) / len(relevant))\n",
    "      f1s.append((2 * precisions[-1] * recalls[-1]) / (precisions[-1] + recalls[-1] + 1e-50))\n",
    "\n",
    "    \n",
    "    return { \n",
    "      f\"P@{k}\": np.mean(precisions), \n",
    "      f\"R@{k}\": np.mean(recalls), \n",
    "      f\"F1@{k}\": np.mean(f1s) \n",
    "    }"
   ]
  },
  {
   "cell_type": "code",
   "execution_count": 98,
   "id": "16338dc1",
   "metadata": {},
   "outputs": [
    {
     "data": {
      "image/png": "[encoded data removed]",
      "text/plain": [
       "<Figure size 640x480 with 1 Axes>"
      ]
     },
     "metadata": {},
     "output_type": "display_data"
    },
    {
     "data": {
      "application/vnd.jupyter.widget-view+json": {
       "model_id": "386058a76c1944ab97e60bc69061032f",
       "version_major": 2,
       "version_minor": 0
      },
      "text/plain": [
       "  0%|          | 0/1000 [00:00<?, ?it/s]"
      ]
     },
     "metadata": {},
     "output_type": "display_data"
    },
    {
     "ename": "KeyboardInterrupt",
     "evalue": "",
     "output_type": "error",
     "traceback": [
      "\u001b[0;31m---------------------------------------------------------------------------\u001b[0m",
      "\u001b[0;31mKeyboardInterrupt\u001b[0m                         Traceback (most recent call last)",
      "Cell \u001b[0;32mIn[98], line 21\u001b[0m\n\u001b[1;32m     18\u001b[0m optimizer\u001b[39m.\u001b[39mstep()\n\u001b[1;32m     19\u001b[0m optimizer\u001b[39m.\u001b[39mzero_grad()\n\u001b[0;32m---> 21\u001b[0m losses\u001b[39m.\u001b[39mappend(loss\u001b[39m.\u001b[39;49mitem())\n\u001b[1;32m     23\u001b[0m \u001b[39mif\u001b[39;00m (step \u001b[39m%\u001b[39m \u001b[39m10\u001b[39m) \u001b[39m==\u001b[39m \u001b[39m0\u001b[39m:\n\u001b[1;32m     24\u001b[0m   metrics\u001b[39m.\u001b[39mappend({n: v \u001b[39mfor\u001b[39;00m k \u001b[39min\u001b[39;00m [\u001b[39m1\u001b[39m, \u001b[39m5\u001b[39m, \u001b[39m10\u001b[39m, \u001b[39m20\u001b[39m, \u001b[39m25\u001b[39m] \u001b[39mfor\u001b[39;00m n, v \u001b[39min\u001b[39;00m model\u001b[39m.\u001b[39mevaluate(k)\u001b[39m.\u001b[39mitems()})\n",
      "\u001b[0;31mKeyboardInterrupt\u001b[0m: "
     ]
    },
    {
     "data": {
      "image/png": "[encoded data removed]",
      "text/plain": [
       "<Figure size 640x480 with 1 Axes>"
      ]
     },
     "metadata": {},
     "output_type": "display_data"
    }
   ],
   "source": [
    "from tqdm.auto import tqdm\n",
    "from matplotlib import pyplot as plt\n",
    "from IPython import display\n",
    "\n",
    "fig, ax = plt.subplots()\n",
    "dh = display.display(fig, display_id=True)\n",
    "\n",
    "model = SumIRWE(lj, INFLUENCED_BY_PRED, comunicability_degree=8)\n",
    "model.to(\"cuda:0\")\n",
    "optimizer = torch.optim.AdamW(model.parameters(), lr=0.05)\n",
    "\n",
    "losses = []\n",
    "metrics = []\n",
    "for step in (pbar := tqdm(list(range(1000)))):\n",
    "  loss, _ = model()\n",
    "  loss.backward()\n",
    "  optimizer.step()\n",
    "  optimizer.zero_grad()\n",
    "\n",
    "  losses.append(loss.item())\n",
    "\n",
    "  if (step % 10) == 0:\n",
    "    metrics.append({n: v for k in [1, 5, 10, 20, 25] for n, v in model.evaluate(k).items()})\n",
    "    pbar.set_postfix_str(f\" P: {metrics[-1]['P@10']:1.2f} R: {metrics[-1]['R@10']:1.2f}\")\n",
    "  \n",
    "  ax.plot(range(len(losses)), losses, c=\"k\")\n",
    "  dh.update(fig)\n",
    "\n",
    "  pbar.set_description(f\"Loss: {losses[-1]:1.8f}\")\n"
   ]
  },
  {
   "cell_type": "code",
   "execution_count": 100,
   "id": "895ba1ba",
   "metadata": {},
   "outputs": [
    {
     "data": {
      "text/plain": [
       "{'P@1': 1.0,\n",
       " 'R@1': 0.2970070651814073,\n",
       " 'F1@1': 0.41130829640445027,\n",
       " 'P@5': 0.75,\n",
       " 'R@5': 0.7975353259070365,\n",
       " 'F1@5': 0.6788257167923457,\n",
       " 'P@10': 0.5307692307692308,\n",
       " 'R@10': 0.9308459875894086,\n",
       " 'F1@10': 0.5902213553175227,\n",
       " 'P@20': 0.32211538461538464,\n",
       " 'R@20': 0.9859712047212047,\n",
       " 'F1@20': 0.425747855036117,\n",
       " 'P@25': 0.26692307692307693,\n",
       " 'R@25': 0.9943687678062678,\n",
       " 'F1@25': 0.3715620830333623}"
      ]
     },
     "execution_count": 100,
     "metadata": {},
     "output_type": "execute_result"
    }
   ],
   "source": [
    "metrics[-1]"
   ]
  },
  {
   "cell_type": "code",
   "execution_count": 113,
   "id": "6bfab5f3",
   "metadata": {},
   "outputs": [
    {
     "name": "stdout",
     "output_type": "stream",
     "text": [
      "0.834 - http://purl.org/vocab/relationship/friendOf\n",
      "0.088 - http://purl.org/ontology/mo/collaborated_with\n",
      "0.250 - http://purl.org/vocab/relationship/knowsOf\n",
      "-0.663 - http://linkedjazz.org/ontology/inBandTogether\n",
      "-1.045 - http://purl.org/vocab/relationship/mentorOf\n",
      "1.348 - http://linkedjazz.org/ontology/bandmember\n",
      "-0.403 - http://linkedjazz.org/ontology/playedTogether\n",
      "-0.503 - http://purl.org/vocab/relationship/acquaintanceOf\n",
      "-0.023 - http://linkedjazz.org/ontology/touredWith\n",
      "0.184 - http://purl.org/vocab/relationship/hasMet\n",
      "0.034 - http://linkedjazz.org/ontology/bandLeaderOf\n"
     ]
    }
   ],
   "source": [
    "for r, w in zip(model.relations, model.relation_embedding.weight.reshape(-1)):\n",
    "  print(f\"{w.item():1.3f} - {r}\")"
   ]
  }
 ],
 "metadata": {
  "kernelspec": {
   "display_name": "Python 3 (ipykernel)",
   "language": "python",
   "name": "python3"
  },
  "language_info": {
   "codemirror_mode": {
    "name": "ipython",
    "version": 3
   },
   "file_extension": ".py",
   "mimetype": "text/x-python",
   "name": "python",
   "nbconvert_exporter": "python",
   "pygments_lexer": "ipython3",
   "version": "3.10.5"
  }
 },
 "nbformat": 4,
 "nbformat_minor": 5
}
