{
 "cells": [
  {
   "cell_type": "code",
   "execution_count": 1,
   "id": "d1bbf9e4",
   "metadata": {},
   "outputs": [],
   "source": [
    "import networkx as nx\n",
    "import rdflib\n",
    "from rdflib.extras.external_graph_libs import rdflib_to_networkx_digraph\n",
    "from rdflib import Dataset\n",
    "from networkx import Graph as NXGraph\n",
    "import matplotlib.pyplot as plt\n",
    "import statistics\n",
    "import collections\n",
    "import numpy as np\n",
    "from SPARQLWrapper import SPARQLWrapper, JSON\n",
    "from math import factorial"
   ]
  },
  {
   "attachments": {},
   "cell_type": "markdown",
   "id": "b1f7822f",
   "metadata": {},
   "source": [
    "## KG exploration"
   ]
  },
  {
   "cell_type": "code",
   "execution_count": 6,
   "id": "6ab26749",
   "metadata": {},
   "outputs": [],
   "source": [
    "dataset = Dataset()\n",
    "dataset.parse(\"resources/linked-jazz.trig\", format=\"trig\")\n",
    "\n",
    "# take the relationship graph\n",
    "lj = list(dataset.graphs())[1]\n",
    "lj_G = rdflib_to_networkx_digraph(lj)"
   ]
  },
  {
   "attachments": {},
   "cell_type": "markdown",
   "id": "1415902a",
   "metadata": {},
   "source": [
    "List predicates in the KG"
   ]
  },
  {
   "cell_type": "code",
   "execution_count": 7,
   "id": "4aaa1dbe",
   "metadata": {},
   "outputs": [
    {
     "data": {
      "text/plain": [
       "{rdflib.term.URIRef('http://linkedjazz.org/ontology/bandLeaderOf'),\n",
       " rdflib.term.URIRef('http://linkedjazz.org/ontology/bandmember'),\n",
       " rdflib.term.URIRef('http://linkedjazz.org/ontology/inBandTogether'),\n",
       " rdflib.term.URIRef('http://linkedjazz.org/ontology/playedTogether'),\n",
       " rdflib.term.URIRef('http://linkedjazz.org/ontology/touredWith'),\n",
       " rdflib.term.URIRef('http://purl.org/ontology/mo/collaborated_with'),\n",
       " rdflib.term.URIRef('http://purl.org/vocab/relationship/acquaintanceOf'),\n",
       " rdflib.term.URIRef('http://purl.org/vocab/relationship/friendOf'),\n",
       " rdflib.term.URIRef('http://purl.org/vocab/relationship/hasMet'),\n",
       " rdflib.term.URIRef('http://purl.org/vocab/relationship/influencedBy'),\n",
       " rdflib.term.URIRef('http://purl.org/vocab/relationship/knowsOf'),\n",
       " rdflib.term.URIRef('http://purl.org/vocab/relationship/mentorOf')}"
      ]
     },
     "execution_count": 7,
     "metadata": {},
     "output_type": "execute_result"
    }
   ],
   "source": [
    "set(lj.predicates())"
   ]
  },
  {
   "attachments": {},
   "cell_type": "markdown",
   "id": "36c2d804",
   "metadata": {},
   "source": [
    "Build the weighted graph"
   ]
  },
  {
   "cell_type": "code",
   "execution_count": 4,
   "id": "568bc351",
   "metadata": {},
   "outputs": [],
   "source": [
    "WEIGHTS_MAP = {\n",
    "    rdflib.term.URIRef('http://linkedjazz.org/ontology/inBandTogether'): 0.8,\n",
    "    rdflib.term.URIRef('http://linkedjazz.org/ontology/playedTogether'): 0.8,\n",
    "    rdflib.term.URIRef('http://linkedjazz.org/ontology/touredWith'): 0.9,\n",
    "    rdflib.term.URIRef('http://purl.org/ontology/mo/collaborated_with'): 0.8,\n",
    "    rdflib.term.URIRef('http://purl.org/vocab/relationship/acquaintanceOf'): 0.6,\n",
    "    rdflib.term.URIRef('http://purl.org/vocab/relationship/friendOf'): 0.7,\n",
    "    rdflib.term.URIRef('http://purl.org/vocab/relationship/hasMet'): 0.2,\n",
    "    rdflib.term.URIRef('http://purl.org/vocab/relationship/knowsOf'): 0.1,\n",
    "    rdflib.term.URIRef('http://purl.org/vocab/relationship/mentorOf'): 0.9\n",
    "}\n",
    "\n",
    "for i, j in lj_G.edges:\n",
    "    lj_G[i][j]['weight'] = 0\n",
    "    for s, p, o in lj_G[i][j]['triples']:\n",
    "        lj_G[i][j]['weight'] += WEIGHTS_MAP.get(p, 0)"
   ]
  },
  {
   "attachments": {},
   "cell_type": "markdown",
   "id": "6debf4f1",
   "metadata": {},
   "source": [
    "Compute the centrality due to the eigenvectors"
   ]
  },
  {
   "cell_type": "code",
   "execution_count": 6,
   "id": "8ef7b6c2",
   "metadata": {},
   "outputs": [],
   "source": [
    "ec = nx.eigenvector_centrality(lj_G, weight=\"weight\")"
   ]
  },
  {
   "attachments": {},
   "cell_type": "markdown",
   "id": "305cc192",
   "metadata": {},
   "source": [
    "Print the top 10 most influential artists. The label is queried directly from the LinkedJazz KG through a SPARQL query."
   ]
  },
  {
   "cell_type": "code",
   "execution_count": 7,
   "id": "317a69f5",
   "metadata": {},
   "outputs": [
    {
     "name": "stdout",
     "output_type": "stream",
     "text": [
      "0.37577864573377373 - Sonny Payne\n",
      "0.3623081289539205 - Eddie \"Lockjaw\" Davis\n",
      "0.30656841680720565 - Eva Jessye\n",
      "0.2786985607338482 - Bill Hughes (musician)\n",
      "0.26565482897837156 - Louis Armstrong\n",
      "0.2605886802410345 - Count Basie\n",
      "0.25519900471608226 - Miles Davis\n",
      "0.18766970746297484 - Eubie Blake\n",
      "0.16814097077664972 - Cat Anderson\n",
      "0.1366814314506891 - Dizzy Gillespie\n"
     ]
    }
   ],
   "source": [
    "def get_dbpedia_label(iri):\n",
    "  sparql = SPARQLWrapper(\"https://dbpedia.org/sparql\")\n",
    "  sparql.setReturnFormat(JSON)\n",
    "  sparql.setQuery(\"\"\"\n",
    "  SELECT ?label\n",
    "  WHERE {\n",
    "    <%s> rdfs:label ?label .\n",
    "    FILTER(LANGMATCHES(LANG(?label), \\\"en\\\"))\n",
    "  }\n",
    "  \"\"\" % iri)\n",
    "  \n",
    "  try:\n",
    "    ret = sparql.queryAndConvert()\n",
    "    label = ret[\"results\"][\"bindings\"][0][\"label\"][\"value\"]\n",
    "  except:\n",
    "    label = iri\n",
    "  return label\n",
    "\n",
    "for k in sorted(ec, key=ec.get, reverse=True)[:10]:\n",
    "    label = get_dbpedia_label(str(k))\n",
    "    print(f\"{ec[k]} - {label}\")"
   ]
  },
  {
   "attachments": {},
   "cell_type": "markdown",
   "id": "63cd0913",
   "metadata": {},
   "source": [
    "## Adjacency matrix experiments"
   ]
  },
  {
   "cell_type": "code",
   "execution_count": 22,
   "id": "4dfa3244",
   "metadata": {},
   "outputs": [],
   "source": [
    "def truncated_graph_power_exp(graph: nx.Graph, degree: int) -> np.array:\n",
    "  \"\"\"\n",
    "  Compute the trucated matrix power exponential using Taylor series expansion.\n",
    "\n",
    "  Args:\n",
    "      graph (nx.Graph): Input NetworkX grpah.\n",
    "      degree (int): Tatlor degree of the polynomial\n",
    "\n",
    "  Returns:\n",
    "      np.array: Adjacency matrix\n",
    "  \"\"\"\n",
    "  adj = nx.to_numpy_array(graph)\n",
    "  powadj = adj\n",
    "  res = adj\n",
    "  for i in range(2, degree + 1):\n",
    "      powadj = np.matmul(powadj, adj)\n",
    "      coeff = 1 / factorial(i)\n",
    "      res = res + (coeff * powadj)\n",
    "  return res"
   ]
  },
  {
   "cell_type": "code",
   "execution_count": 259,
   "metadata": {},
   "outputs": [],
   "source": [
    "lj_G_exp = truncated_graph_power_exp(lj_G, 8)"
   ]
  },
  {
   "attachments": {},
   "cell_type": "markdown",
   "id": "835b2232",
   "metadata": {},
   "source": [
    "How much did Miles Davis influence Herbie Hancock? What about Count Basie?\n",
    "\n",
    "Generally, the influence of Miles Davis should be much higher, since Hancock mention him as one of his main inspirations."
   ]
  },
  {
   "cell_type": "code",
   "execution_count": 260,
   "id": "63ec6b7e",
   "metadata": {},
   "outputs": [],
   "source": [
    "miles_davis_idx = list(lj_G.nodes()).index(rdflib.URIRef(\"http://dbpedia.org/resource/Miles_Davis\"))\n",
    "count_basie_idx = list(lj_G.nodes()).index(rdflib.URIRef(\"http://dbpedia.org/resource/Count_Basie\"))\n",
    "herbie_hancock_idx = list(lj_G.nodes()).index(rdflib.URIRef(\"http://dbpedia.org/resource/Herbie_Hancock\"))"
   ]
  },
  {
   "cell_type": "code",
   "execution_count": 261,
   "id": "d2948810",
   "metadata": {},
   "outputs": [
    {
     "name": "stdout",
     "output_type": "stream",
     "text": [
      "Miles Davis influence in Herbie Hancock: 34.683024250129954\n"
     ]
    }
   ],
   "source": [
    "cp_row = lj_G_exp[herbie_hancock_idx, :]\n",
    "print(f\"Miles Davis influence in Herbie Hancock: {cp_row[miles_davis_idx]}\")"
   ]
  },
  {
   "cell_type": "code",
   "execution_count": 262,
   "id": "c9ab87da",
   "metadata": {},
   "outputs": [
    {
     "name": "stdout",
     "output_type": "stream",
     "text": [
      "Count Basie influence in Herbie Hancock: 26.2808248954695\n"
     ]
    }
   ],
   "source": [
    "print(f\"Count Basie influence in Herbie Hancock: {cp_row[count_basie_idx]}\")"
   ]
  },
  {
   "attachments": {},
   "cell_type": "markdown",
   "id": "5c24d3b5",
   "metadata": {},
   "source": [
    "Most influential artists to Herbie Hancock"
   ]
  },
  {
   "cell_type": "code",
   "execution_count": 263,
   "id": "a5be0c0d",
   "metadata": {},
   "outputs": [
    {
     "name": "stdout",
     "output_type": "stream",
     "text": [
      "34.683024250129954: Miles Davis\n",
      "26.2808248954695: Count Basie\n",
      "25.41997081068155: Sonny Payne\n",
      "24.46121225573884: Eddie \"Lockjaw\" Davis\n",
      "21.305980485252977: Louis Armstrong\n",
      "20.69794883177902: Eva Jessye\n",
      "18.816317119799113: Bill Hughes (musician)\n",
      "16.018443664504467: Cat Anderson\n",
      "14.617881374063993: Dizzy Gillespie\n",
      "13.868866142761657: Ron Carter\n",
      "12.66094439672619: Eubie Blake\n",
      "12.631132934747523: http://dbpedia.org/resource/Chick_Corea\n",
      "12.403779793234376: Duke Ellington\n",
      "11.522236827831103: Harry Carney\n",
      "9.99959074698884: Louie Bellson\n",
      "9.746313824069942: Oscar Peterson\n",
      "9.468581451294641: http://dbpedia.org/resource/Alex_Acu%C3%B1a\n",
      "9.023738338122024: Don Redman\n",
      "8.938050235620038: Donald Byrd\n",
      "8.922633232347719: Gil Evans\n"
     ]
    }
   ],
   "source": [
    "for k in np.argsort(cp_row)[::-1][:20]:\n",
    "  print(f\"{cp_row[k]}: {get_dbpedia_label(list(lj_G.nodes)[k])}\")"
   ]
  },
  {
   "attachments": {},
   "cell_type": "markdown",
   "id": "5f4abfcd",
   "metadata": {},
   "source": [
    "## A vector implementation\n",
    "\n",
    "The idea is to use an `Embedding` layer, which assigns a tensor to an index, to represent the weights of the relations.\n",
    "\n",
    "If we have $R$ relations, then the input to the network will be the adjacency matrix for each relation. \n",
    "With $N$ the number of nodes, the input to the network is a matrix of the form $x^{N \\times N \\times R}$.\n",
    "\n",
    "We can then leverage NN models to approximate the weights."
   ]
  },
  {
   "cell_type": "code",
   "execution_count": 10,
   "id": "3dce33a9",
   "metadata": {},
   "outputs": [],
   "source": [
    "from typing import List\n",
    "import torch\n",
    "from torch import nn\n",
    "\n",
    "INFLUENCED_BY_PRED = rdflib.URIRef(\"http://purl.org/vocab/relationship/influencedBy\")\n",
    "\n",
    "class SumIRWE(nn.Module):\n",
    "  def __init__(self, graph: rdflib.Graph, target_pred: rdflib.URIRef, comunicability_degree: float = 8):\n",
    "    super().__init__()\n",
    "    self.c_degree = comunicability_degree\n",
    "\n",
    "    self.relations = list(set(graph.predicates()))\n",
    "    nx_graph = rdflib_to_networkx_digraph(graph)\n",
    "\n",
    "    # build the input graph by building several different directed graphs that only contains nodes connected by a specific predicate\n",
    "    self.input = None\n",
    "    for rel in self.relations:\n",
    "      sub_g = nx.DiGraph()\n",
    "      sub_g.add_nodes_from(nx_graph.nodes)\n",
    "      sub_g.add_edges_from(graph.subject_objects(rel))\n",
    "\n",
    "      # 1 x N x N\n",
    "      sub_g_adj = torch.tensor(nx.to_numpy_array(sub_g)).unsqueeze(0)\n",
    "\n",
    "      # |R| x N x N\n",
    "      self.input = sub_g_adj if self.input is None else torch.cat([self.input, sub_g_adj])\n",
    "\n",
    "    # build the target graph\n",
    "    target_g = nx.DiGraph()\n",
    "    target_g.add_nodes_from(nx_graph.nodes)\n",
    "    target_g.add_edges_from(graph.subject_objects(target_pred))\n",
    "    self.target = torch.tensor(nx.to_numpy_array(target_g))\n",
    "\n",
    "    # NN definition\n",
    "    self.relation_embedding = nn.Embedding(len(self.relations), 1)\n",
    "    self.loss = nn.CrossEntropyLoss()\n",
    "\n",
    "  def forward(self):\n",
    "    # prepare a weight for each relation\n",
    "    relations_idxs = torch.arange(len(self.relations))\n",
    "    \n",
    "    # compute weight of each relation\n",
    "    relation_weight = self.relation_embedding(relations_idxs)\n",
    "\n",
    "    # weight input by casting the weights to |R| x 1 x 1\n",
    "    w_input = self.input * relation_weight.reshape(-1, 1, 1)\n",
    "\n",
    "    # combine weights (using sum)\n",
    "    w_input = w_input.sum(axis=0)\n",
    "\n",
    "    # compute comunicability up to X degree\n",
    "    initial_graph = w_input\n",
    "    graph_power = w_input\n",
    "    for i in range(2, self.c_degree + 1):\n",
    "      graph_power = torch.mm(graph_power, initial_graph)\n",
    "      coeff = torch.tensor(1 / factorial(i))\n",
    "      w_input = w_input + (coeff * graph_power)\n",
    "    \n",
    "    # compute cross entropy loss: the problem is a classification problem\n",
    "    loss = self.loss(w_input, self.target)\n",
    "\n",
    "    return loss\n",
    "\n",
    "model = SumIRWE(lj, INFLUENCED_BY_PRED)"
   ]
  },
  {
   "cell_type": "code",
   "execution_count": 12,
   "id": "16338dc1",
   "metadata": {},
   "outputs": [
    {
     "name": "stderr",
     "output_type": "stream",
     "text": [
      "Loss: 2.997246419989877: 100%|██████████| 10/10 [01:29<00:00,  8.98s/it]\n"
     ]
    }
   ],
   "source": [
    "from tqdm import trange\n",
    "\n",
    "optimizer = torch.optim.SGD(model.parameters(), lr=0.001)\n",
    "\n",
    "for step in (pbar := trange(10)):\n",
    "  loss = model()\n",
    "  loss.backward()\n",
    "  optimizer.step()\n",
    "  optimizer.zero_grad()\n",
    "\n",
    "  loss = loss.item()\n",
    "  pbar.set_description(f\"Loss: {loss}\")"
   ]
  },
  {
   "attachments": {},
   "cell_type": "markdown",
   "id": "221c77e1",
   "metadata": {},
   "source": [
    "## Optimize top-k"
   ]
  },
  {
   "cell_type": "code",
   "execution_count": 24,
   "id": "f04fc0df",
   "metadata": {},
   "outputs": [],
   "source": [
    "def weight_graph(graph, weight_schema):\n",
    "  # reset weights\n",
    "  for i, j in graph.edges:\n",
    "    graph[i][j]['weight'] = 0\n",
    "  \n",
    "  for i, j in graph.edges:\n",
    "    graph[i][j]['weight'] = 0\n",
    "    for s, p, o in graph[i][j]['triples']:\n",
    "        graph[i][j]['weight'] += weight_schema.get(p, 0)"
   ]
  },
  {
   "cell_type": "code",
   "execution_count": 25,
   "id": "1757b26e",
   "metadata": {},
   "outputs": [],
   "source": [
    "INFLUENCED_BY_PRED = rdflib.URIRef(\"http://purl.org/vocab/relationship/influencedBy\")\n",
    "influenced_by_rel = [(s, o) for s, _ , o in lj.triples((None, INFLUENCED_BY_PRED, None)) ]"
   ]
  },
  {
   "cell_type": "code",
   "execution_count": 26,
   "id": "4297a9a0",
   "metadata": {},
   "outputs": [],
   "source": [
    "wm = dict(zip(model.relations, [x.item() for x in model.relation_embedding.weight.squeeze(1)]))\n",
    "weight_graph(lj_G, wm)\n",
    "lj_G_exp = truncated_graph_power_exp(lj_G, 8)"
   ]
  },
  {
   "cell_type": "code",
   "execution_count": 27,
   "id": "ec74f367",
   "metadata": {},
   "outputs": [],
   "source": [
    "top_pred = list()\n",
    "for influenced, influencer in influenced_by_rel:\n",
    "  influenced_idx = list(lj_G.nodes()).index(influenced)\n",
    "  influenced_row = lj_G_exp[influenced_idx, :]\n",
    "  top = [list(lj_G.nodes())[i] for i in np.argsort(influenced_row)[::-1][:10]]\n",
    "  top_pred.append(influencer in top)"
   ]
  },
  {
   "cell_type": "code",
   "execution_count": 29,
   "id": "9407be6a",
   "metadata": {},
   "outputs": [
    {
     "data": {
      "text/plain": [
       "0.25"
      ]
     },
     "execution_count": 29,
     "metadata": {},
     "output_type": "execute_result"
    }
   ],
   "source": [
    "np.sum(top_pred) / len(top_pred)"
   ]
  },
  {
   "cell_type": "code",
   "execution_count": 119,
   "id": "e95f5a93",
   "metadata": {},
   "outputs": [
    {
     "name": "stdout",
     "output_type": "stream",
     "text": [
      "http://linkedjazz.org/ontology/inBandTogether 0.62169746\n",
      "http://linkedjazz.org/ontology/playedTogether 0.17829556\n",
      "http://linkedjazz.org/ontology/touredWith 1.14409202\n",
      "http://purl.org/ontology/mo/collaborated_with 1.26547381\n",
      "http://purl.org/vocab/relationship/acquaintanceOf 0.66776842\n",
      "http://purl.org/vocab/relationship/friendOf 2.25927431\n",
      "http://purl.org/vocab/relationship/hasMet 1.32576557\n",
      "http://purl.org/vocab/relationship/knowsOf 1.4899642\n",
      "http://purl.org/vocab/relationship/mentorOf 1.67660337\n"
     ]
    }
   ],
   "source": [
    "for k, v in zip(WEIGHTS_MAP.keys(), weights):\n",
    "  print(k, v)"
   ]
  }
 ],
 "metadata": {
  "kernelspec": {
   "display_name": "Python 3 (ipykernel)",
   "language": "python",
   "name": "python3"
  },
  "language_info": {
   "codemirror_mode": {
    "name": "ipython",
    "version": 3
   },
   "file_extension": ".py",
   "mimetype": "text/x-python",
   "name": "python",
   "nbconvert_exporter": "python",
   "pygments_lexer": "ipython3",
   "version": "3.11.4"
  }
 },
 "nbformat": 4,
 "nbformat_minor": 5
}
