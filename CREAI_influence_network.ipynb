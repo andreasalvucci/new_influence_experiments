{
 "cells": [
  {
   "cell_type": "code",
   "execution_count": 51,
   "id": "d1bbf9e4",
   "metadata": {},
   "outputs": [],
   "source": [
    "import networkx as nx\n",
    "import rdflib\n",
    "from rdflib.extras.external_graph_libs import rdflib_to_networkx_graph\n",
    "from rdflib import Graph as Graph\n",
    "from networkx import Graph as NXGraph\n",
    "import matplotlib.pyplot as plt\n",
    "import statistics\n",
    "import collections\n",
    "import numpy as np\n",
    "from SPARQLWrapper import SPARQLWrapper, JSON\n",
    "from math import factorial"
   ]
  },
  {
   "attachments": {},
   "cell_type": "markdown",
   "id": "b1f7822f",
   "metadata": {},
   "source": [
    "## KG exploration"
   ]
  },
  {
   "cell_type": "code",
   "execution_count": 33,
   "id": "b999167a",
   "metadata": {},
   "outputs": [],
   "source": [
    "lj = Graph()\n",
    "lj.parse(\"resources/linked_jazz.ttl\", format='turtle')\n",
    "\n",
    "lj_G = rdflib_to_networkx_graph(lj)"
   ]
  },
  {
   "attachments": {},
   "cell_type": "markdown",
   "id": "1415902a",
   "metadata": {},
   "source": [
    "List predicates in the KG"
   ]
  },
  {
   "cell_type": "code",
   "execution_count": 28,
   "id": "4aaa1dbe",
   "metadata": {},
   "outputs": [
    {
     "data": {
      "text/plain": [
       "{rdflib.term.URIRef('http://www.semanticweb.org/KEProject/MusicalInfluences#acquaintanceOf'),\n",
       " rdflib.term.URIRef('http://www.semanticweb.org/KEProject/MusicalInfluences#closeFriendOf'),\n",
       " rdflib.term.URIRef('http://www.semanticweb.org/KEProject/MusicalInfluences#collaboratedWith'),\n",
       " rdflib.term.URIRef('http://www.semanticweb.org/KEProject/MusicalInfluences#hasMet'),\n",
       " rdflib.term.URIRef('http://www.semanticweb.org/KEProject/MusicalInfluences#knowsOf'),\n",
       " rdflib.term.URIRef('http://www.semanticweb.org/KEProject/MusicalInfluences#mentorOf'),\n",
       " rdflib.term.URIRef('http://www.semanticweb.org/KEProject/MusicalInfluences#performedWith'),\n",
       " rdflib.term.URIRef('http://www.semanticweb.org/KEProject/MusicalInfluences#sharedMusicGroup'),\n",
       " rdflib.term.URIRef('http://www.semanticweb.org/KEProject/MusicalInfluences#wasInfluencedBy'),\n",
       " rdflib.term.URIRef('http://www.w3.org/1999/02/22-rdf-syntax-ns#type'),\n",
       " rdflib.term.URIRef('http://www.w3.org/2000/01/rdf-schema#label')}"
      ]
     },
     "execution_count": 28,
     "metadata": {},
     "output_type": "execute_result"
    }
   ],
   "source": [
    "set(lj.predicates())"
   ]
  },
  {
   "attachments": {},
   "cell_type": "markdown",
   "id": "36c2d804",
   "metadata": {},
   "source": [
    "Build the weighted graph"
   ]
  },
  {
   "cell_type": "code",
   "execution_count": 29,
   "id": "958c20f6",
   "metadata": {},
   "outputs": [],
   "source": [
    "kg_nodes = len(lj)\n",
    "\n",
    "predicates_frequency = {\n",
    "  p: len(list(lj.triples((None, p, None))))\n",
    "  for p in lj.predicates()\n",
    "}"
   ]
  },
  {
   "cell_type": "code",
   "execution_count": 34,
   "id": "568bc351",
   "metadata": {},
   "outputs": [],
   "source": [
    "WEIGHTS_MAP = {\n",
    "    'http://www.semanticweb.org/KEProject/MusicalInfluences#sharedMusicGroup': 0.9,\n",
    "    'http://www.semanticweb.org/KEProject/MusicalInfluences#knowsOf': 0.2,\n",
    "    'http://www.semanticweb.org/KEProject/MusicalInfluences#wasInfluencedBy': 0.2,\n",
    "    'http://www.semanticweb.org/KEProject/MusicalInfluences#collaboratedWith': 0.8,\n",
    "    'http://www.semanticweb.org/KEProject/MusicalInfluences#performedWith': 0.8,\n",
    "    'http://www.semanticweb.org/KEProject/MusicalInfluences#acquaintanceOf': 0.6,\n",
    "    'http://www.semanticweb.org/KEProject/MusicalInfluences#hasMet': 0.3,\n",
    "    'http://www.semanticweb.org/KEProject/MusicalInfluences#mentorOf': 0.95,\n",
    "    'http://www.semanticweb.org/KEProject/MusicalInfluences#closeFriendOf': 0.7\n",
    "}\n",
    "\n",
    "for i, j in lj_G.edges:\n",
    "    lj_G[i][j]['weight'] = 0\n",
    "    for s, p, o in lj_G[i][j]['triples']:\n",
    "        lj_G[i][j]['weight'] += WEIGHTS_MAP.get(str(p), 0)"
   ]
  },
  {
   "attachments": {},
   "cell_type": "markdown",
   "id": "6debf4f1",
   "metadata": {},
   "source": [
    "Compute the centrality due to the eigenvectors"
   ]
  },
  {
   "cell_type": "code",
   "execution_count": 35,
   "id": "8ef7b6c2",
   "metadata": {},
   "outputs": [],
   "source": [
    "ec = nx.eigenvector_centrality(lj_G, weight=\"weight\")"
   ]
  },
  {
   "attachments": {},
   "cell_type": "markdown",
   "id": "305cc192",
   "metadata": {},
   "source": [
    "Print the top 10 most influential artists. The label is queried directly from the LinkedJazz KG through a SPARQL query."
   ]
  },
  {
   "cell_type": "code",
   "execution_count": 36,
   "id": "317a69f5",
   "metadata": {},
   "outputs": [
    {
     "name": "stdout",
     "output_type": "stream",
     "text": [
      "0.43078161725884534 - Count Basie\n",
      "0.2783203387338041 - Buddy DeFranco\n",
      "0.24635594241730585 - Roy Eldridge\n",
      "0.23090382684773114 - Lionel Hampton\n",
      "0.2281363963700805 - Louis Armstrong\n",
      "0.2248402606105156 - Oscar Peterson\n",
      "0.14187427149761 - Clark Terry\n",
      "0.14155396981004958 - Dizzy Gillespie\n",
      "0.13915167874605938 - Joe Williams\n",
      "0.13484259210755245 - Sam Rivers\n"
     ]
    }
   ],
   "source": [
    "def get_semlab_label(iri):\n",
    "  sparql = SPARQLWrapper(\"https://query.semlab.io/proxy/wdqs/bigdata/namespace/wdq/sparql\")\n",
    "  sparql.setReturnFormat(JSON)\n",
    "  sparql.setQuery(\"\"\"\n",
    "  SELECT DISTINCT ?item ?itemLabel WHERE {\n",
    "    BIND (<%s> AS ?item) .\n",
    "    SERVICE wikibase:label { bd:serviceParam wikibase:language \"[AUTO_LANGUAGE],en\". }\n",
    "    \n",
    "  }\n",
    "  ORDER BY ?projectLabel\n",
    "  \"\"\" % iri)\n",
    "  \n",
    "  try:\n",
    "    ret = sparql.queryAndConvert()\n",
    "    label = ret[\"results\"][\"bindings\"][0][\"itemLabel\"][\"value\"]\n",
    "  except:\n",
    "    label = iri\n",
    "  return label\n",
    "\n",
    "for k in sorted(ec, key=ec.get, reverse=True)[:10]:\n",
    "    label = get_semlab_label(str(k))\n",
    "    print(f\"{ec[k]} - {label}\")"
   ]
  },
  {
   "attachments": {},
   "cell_type": "markdown",
   "id": "63cd0913",
   "metadata": {},
   "source": [
    "## Adjacency matrix experiments"
   ]
  },
  {
   "cell_type": "code",
   "execution_count": 113,
   "id": "4dfa3244",
   "metadata": {},
   "outputs": [],
   "source": [
    "from math import factorial\n",
    "\n",
    "def truncated_graph_power_exp(graph: nx.Graph, degree: int) -> np.array:\n",
    "  \"\"\"\n",
    "  Compute the trucated matrix power exponential using Taylor series expansion.\n",
    "\n",
    "  Args:\n",
    "      graph (nx.Graph): Input NetworkX grpah.\n",
    "      degree (int): Tatlor degree of the polynomial\n",
    "\n",
    "  Returns:\n",
    "      np.array: Adjacency matrix\n",
    "  \"\"\"\n",
    "  adj = nx.adjacency_matrix(graph, dtype=np.float64, weight=None).todense()\n",
    "  \n",
    "  # for each range in [1, degree] (note: degree is inclusive)\n",
    "  for i in range(1, degree + 1):\n",
    "    # compute matrix power\n",
    "    pw = nx.power(lj_G, i)\n",
    "    pw = nx.adjacency_matrix(pw, dtype=np.float64, weight=None).todense()\n",
    "    \n",
    "    # compute coefficient as taylor series expansion\n",
    "    # i.e. e^i / i!\n",
    "    coeff = (np.e**i) / factorial(i)\n",
    "    adj += coeff + pw\n",
    "  \n",
    "  return adj"
   ]
  },
  {
   "cell_type": "code",
   "execution_count": 114,
   "id": "295258cd",
   "metadata": {},
   "outputs": [],
   "source": [
    "lj_G_exp = truncated_graph_power_exp(lj_G, 3)"
   ]
  },
  {
   "attachments": {},
   "cell_type": "markdown",
   "id": "835b2232",
   "metadata": {},
   "source": [
    "How much did Miles Davis influence Herbie Hancock? What about Count Basie?\n",
    "\n",
    "Generally, the influence of Miles Davis should be much higher, since Hancock mention him as one of his main inspirations."
   ]
  },
  {
   "cell_type": "code",
   "execution_count": 130,
   "id": "63ec6b7e",
   "metadata": {},
   "outputs": [],
   "source": [
    "miles_davis_idx = list(lj_G.nodes()).index(rdflib.URIRef(\"http://base.semlab.io/entity/Q41\"))\n",
    "count_basie_idx = list(lj_G.nodes()).index(rdflib.URIRef(\"http://base.semlab.io/entity/Q72\"))\n",
    "herbie_hancock_idx = list(lj_G.nodes()).index(rdflib.URIRef(\"http://base.semlab.io/entity/Q493\"))"
   ]
  },
  {
   "cell_type": "code",
   "execution_count": 131,
   "id": "d2948810",
   "metadata": {},
   "outputs": [
    {
     "name": "stdout",
     "output_type": "stream",
     "text": [
      "Miles Davis influence in Herbie Hancock: 13.760399365122312\n"
     ]
    }
   ],
   "source": [
    "cp_row = lj_G_exp[herbie_hancock_idx, :]\n",
    "print(f\"Miles Davis influence in Herbie Hancock: {cp_row[miles_davis_idx]}\")"
   ]
  },
  {
   "cell_type": "code",
   "execution_count": 134,
   "id": "c9ab87da",
   "metadata": {},
   "outputs": [
    {
     "name": "stdout",
     "output_type": "stream",
     "text": [
      "Count Basie influence in Herbie Hancock: 11.760399365122312\n"
     ]
    }
   ],
   "source": [
    "print(f\"Count Basie influence in Herbie Hancock: {cp_row[count_basie_idx]}\")"
   ]
  },
  {
   "attachments": {},
   "cell_type": "markdown",
   "id": "5c24d3b5",
   "metadata": {},
   "source": [
    "Most influential artists to Herbie Hancock"
   ]
  },
  {
   "cell_type": "code",
   "execution_count": 136,
   "id": "a5be0c0d",
   "metadata": {},
   "outputs": [
    {
     "name": "stdout",
     "output_type": "stream",
     "text": [
      "13.760399365122312: Myra Hess\n",
      "13.760399365122312: Herbie Hancock\n",
      "13.760399365122312: George Schick\n",
      "13.760399365122312: Gil Evans\n",
      "13.760399365122312: Chick Corea\n",
      "13.760399365122312: Philly Joe Jones\n",
      "13.760399365122312: Donald Byrd\n",
      "13.760399365122312: Miles Davis\n",
      "13.760399365122312: Teo Macero\n",
      "13.760399365122312: Gayle Moran\n",
      "13.760399365122312: Delfeayo Marsalis\n",
      "13.760399365122312: Tony Williams\n",
      "13.760399365122312: Michael Greene\n",
      "13.760399365122312: Buster Williams\n",
      "13.760399365122312: George Shearing\n",
      "13.760399365122312: http://www.semanticweb.org/KEProject/MusicalInfluences#MusicArtist\n",
      "13.760399365122312: Don Goldberg\n",
      "13.760399365122312: Oscar Peterson\n",
      "13.760399365122312: Ron Carter\n",
      "13.760399365122312: George Coleman\n"
     ]
    }
   ],
   "source": [
    "for k in np.argsort(cp_row)[::-1][:20]:\n",
    "  print(f\"{cp_row[k]}: {get_semlab_label(list(lj_G.nodes)[k])}\")"
   ]
  }
 ],
 "metadata": {
  "kernelspec": {
   "display_name": "Python 3 (ipykernel)",
   "language": "python",
   "name": "python3"
  },
  "language_info": {
   "codemirror_mode": {
    "name": "ipython",
    "version": 3
   },
   "file_extension": ".py",
   "mimetype": "text/x-python",
   "name": "python",
   "nbconvert_exporter": "python",
   "pygments_lexer": "ipython3",
   "version": "3.11.4"
  }
 },
 "nbformat": 4,
 "nbformat_minor": 5
}
