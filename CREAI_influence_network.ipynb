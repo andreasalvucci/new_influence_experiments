{
 "cells": [
  {
   "cell_type": "code",
   "execution_count": 1,
   "id": "d1bbf9e4",
   "metadata": {},
   "outputs": [],
   "source": [
    "import networkx as nx\n",
    "import rdflib\n",
    "from rdflib.extras.external_graph_libs import rdflib_to_networkx_digraph\n",
    "from rdflib import Graph as Graph\n",
    "from networkx import Graph as NXGraph\n",
    "import matplotlib.pyplot as plt\n",
    "import statistics\n",
    "import collections\n",
    "import numpy as np\n",
    "from SPARQLWrapper import SPARQLWrapper, JSON\n",
    "from math import factorial"
   ]
  },
  {
   "attachments": {},
   "cell_type": "markdown",
   "id": "b1f7822f",
   "metadata": {},
   "source": [
    "## KG exploration"
   ]
  },
  {
   "cell_type": "code",
   "execution_count": 2,
   "id": "b999167a",
   "metadata": {},
   "outputs": [],
   "source": [
    "lj = Graph()\n",
    "lj.parse(\"resources/linked_jazz.ttl\", format='turtle')\n",
    "\n",
    "lj_G = rdflib_to_networkx_digraph(lj)"
   ]
  },
  {
   "attachments": {},
   "cell_type": "markdown",
   "id": "1415902a",
   "metadata": {},
   "source": [
    "List predicates in the KG"
   ]
  },
  {
   "cell_type": "code",
   "execution_count": 3,
   "id": "4aaa1dbe",
   "metadata": {},
   "outputs": [
    {
     "data": {
      "text/plain": [
       "{rdflib.term.URIRef('http://www.semanticweb.org/KEProject/MusicalInfluences#acquaintanceOf'),\n",
       " rdflib.term.URIRef('http://www.semanticweb.org/KEProject/MusicalInfluences#closeFriendOf'),\n",
       " rdflib.term.URIRef('http://www.semanticweb.org/KEProject/MusicalInfluences#collaboratedWith'),\n",
       " rdflib.term.URIRef('http://www.semanticweb.org/KEProject/MusicalInfluences#hasMet'),\n",
       " rdflib.term.URIRef('http://www.semanticweb.org/KEProject/MusicalInfluences#knowsOf'),\n",
       " rdflib.term.URIRef('http://www.semanticweb.org/KEProject/MusicalInfluences#mentorOf'),\n",
       " rdflib.term.URIRef('http://www.semanticweb.org/KEProject/MusicalInfluences#performedWith'),\n",
       " rdflib.term.URIRef('http://www.semanticweb.org/KEProject/MusicalInfluences#sharedMusicGroup'),\n",
       " rdflib.term.URIRef('http://www.semanticweb.org/KEProject/MusicalInfluences#wasInfluencedBy'),\n",
       " rdflib.term.URIRef('http://www.w3.org/1999/02/22-rdf-syntax-ns#type'),\n",
       " rdflib.term.URIRef('http://www.w3.org/2000/01/rdf-schema#label')}"
      ]
     },
     "execution_count": 3,
     "metadata": {},
     "output_type": "execute_result"
    }
   ],
   "source": [
    "set(lj.predicates())"
   ]
  },
  {
   "attachments": {},
   "cell_type": "markdown",
   "id": "36c2d804",
   "metadata": {},
   "source": [
    "Build the weighted graph"
   ]
  },
  {
   "cell_type": "code",
   "execution_count": 4,
   "id": "568bc351",
   "metadata": {},
   "outputs": [],
   "source": [
    "WEIGHTS_MAP = {\n",
    "    'http://www.semanticweb.org/KEProject/MusicalInfluences#sharedMusicGroup': 0.9,\n",
    "    #'http://www.semanticweb.org/KEProject/MusicalInfluences#knowsOf': 0.2,\n",
    "    #'http://www.semanticweb.org/KEProject/MusicalInfluences#wasInfluencedBy': 0.2,\n",
    "    'http://www.semanticweb.org/KEProject/MusicalInfluences#collaboratedWith': 0.8,\n",
    "    'http://www.semanticweb.org/KEProject/MusicalInfluences#performedWith': 0.8,\n",
    "    #'http://www.semanticweb.org/KEProject/MusicalInfluences#acquaintanceOf': 0.6,\n",
    "    #'http://www.semanticweb.org/KEProject/MusicalInfluences#hasMet': 0.3,\n",
    "    'http://www.semanticweb.org/KEProject/MusicalInfluences#mentorOf': 0.95,\n",
    "    #'http://www.semanticweb.org/KEProject/MusicalInfluences#closeFriendOf': 0.7\n",
    "}\n",
    "\n",
    "for i, j in lj_G.edges:\n",
    "    lj_G[i][j]['weight'] = 0\n",
    "    for s, p, o in lj_G[i][j]['triples']:\n",
    "        lj_G[i][j]['weight'] += WEIGHTS_MAP.get(str(p), 0)"
   ]
  },
  {
   "attachments": {},
   "cell_type": "markdown",
   "id": "6debf4f1",
   "metadata": {},
   "source": [
    "Compute the centrality due to the eigenvectors"
   ]
  },
  {
   "cell_type": "code",
   "execution_count": 5,
   "id": "8ef7b6c2",
   "metadata": {},
   "outputs": [],
   "source": [
    "ec = nx.eigenvector_centrality(lj_G, weight=\"weight\")"
   ]
  },
  {
   "attachments": {},
   "cell_type": "markdown",
   "id": "305cc192",
   "metadata": {},
   "source": [
    "Print the top 10 most influential artists. The label is queried directly from the LinkedJazz KG through a SPARQL query."
   ]
  },
  {
   "cell_type": "code",
   "execution_count": 6,
   "id": "317a69f5",
   "metadata": {},
   "outputs": [
    {
     "name": "stdout",
     "output_type": "stream",
     "text": [
      "0.45276791139384936 - Larry Ridley\n",
      "0.40985774499549793 - James Spaulding\n",
      "0.38409447906418076 - Freddie Hubbard\n",
      "0.3734989346249061 - Harold Mabern\n",
      "0.21618225871409388 - Lee Morgan\n",
      "0.17980527171344582 - Orville O'Brien\n",
      "0.1785105560085451 - Daniel \"Big Black\" Rey\n",
      "0.1550288950430747 - Paul Parker\n",
      "0.1550288950430747 - Walt Miller\n",
      "0.1550288950430747 - Al Plank\n"
     ]
    }
   ],
   "source": [
    "def get_semlab_label(iri):\n",
    "  sparql = SPARQLWrapper(\"https://query.semlab.io/proxy/wdqs/bigdata/namespace/wdq/sparql\")\n",
    "  sparql.setReturnFormat(JSON)\n",
    "  sparql.setQuery(\"\"\"\n",
    "  SELECT DISTINCT ?item ?itemLabel WHERE {\n",
    "    BIND (<%s> AS ?item) .\n",
    "    SERVICE wikibase:label { bd:serviceParam wikibase:language \"[AUTO_LANGUAGE],en\". }\n",
    "    \n",
    "  }\n",
    "  ORDER BY ?projectLabel\n",
    "  \"\"\" % iri)\n",
    "  \n",
    "  try:\n",
    "    ret = sparql.queryAndConvert()\n",
    "    label = ret[\"results\"][\"bindings\"][0][\"itemLabel\"][\"value\"]\n",
    "  except:\n",
    "    label = iri\n",
    "  return label\n",
    "\n",
    "for k in sorted(ec, key=ec.get, reverse=True)[:10]:\n",
    "    label = get_semlab_label(str(k))\n",
    "    print(f\"{ec[k]} - {label}\")"
   ]
  },
  {
   "attachments": {},
   "cell_type": "markdown",
   "id": "63cd0913",
   "metadata": {},
   "source": [
    "## Adjacency matrix experiments"
   ]
  },
  {
   "cell_type": "code",
   "execution_count": 7,
   "id": "9f24c8e8",
   "metadata": {},
   "outputs": [
    {
     "name": "stdout",
     "output_type": "stream",
     "text": [
      "Collecting git+https://github.com/n28div/hyperhanfpy\n",
      "  Cloning https://github.com/n28div/hyperhanfpy to /tmp/pip-req-build-ebh4__5b\n",
      "  Running command git clone --filter=blob:none --quiet https://github.com/n28div/hyperhanfpy /tmp/pip-req-build-ebh4__5b\n",
      "  Resolved https://github.com/n28div/hyperhanfpy to commit 880742f9ae600fa7058dd237938870af866fd146\n",
      "  Installing build dependencies ... \u001b[?25ldone\n",
      "\u001b[?25h  Getting requirements to build wheel ... \u001b[?25ldone\n",
      "\u001b[?25h  Preparing metadata (pyproject.toml) ... \u001b[?25ldone\n",
      "\u001b[?25hRequirement already satisfied: networkx in /opt/anaconda3/envs/inflpred/lib/python3.11/site-packages (from hyperhanfpy==0.0.1) (3.1)\n",
      "Building wheels for collected packages: hyperhanfpy\n",
      "  Building wheel for hyperhanfpy (pyproject.toml) ... \u001b[?25ldone\n",
      "\u001b[?25h  Created wheel for hyperhanfpy: filename=hyperhanfpy-0.0.1-py3-none-any.whl size=7515 sha256=4dfda7456e9cca1f7171a6dad4178604582bbc79e2f2766c8a3a402a75ab534e\n",
      "  Stored in directory: /tmp/pip-ephem-wheel-cache-rj2bzoxq/wheels/7c/5a/f0/22dedd0a4928778e0b9af96fd09f3253dd05f9fb239bbeaf9a\n",
      "Successfully built hyperhanfpy\n",
      "Installing collected packages: hyperhanfpy\n",
      "Successfully installed hyperhanfpy-0.0.1\n",
      "Note: you may need to restart the kernel to use updated packages.\n"
     ]
    }
   ],
   "source": [
    "%pip install git+https://github.com/n28div/hyperhanfpy"
   ]
  },
  {
   "cell_type": "code",
   "execution_count": 8,
   "id": "4dfa3244",
   "metadata": {},
   "outputs": [],
   "source": [
    "from math import factorial\n",
    "from hyperhanfpy import HyperANF\n",
    "\n",
    "def truncated_graph_power_exp(graph: nx.Graph, degree: int) -> np.array:\n",
    "  \"\"\"\n",
    "  Compute the trucated matrix power exponential using Taylor series expansion.\n",
    "\n",
    "  Args:\n",
    "      graph (nx.Graph): Input NetworkX grpah.\n",
    "      degree (int): Tatlor degree of the polynomial\n",
    "\n",
    "  Returns:\n",
    "      np.array: Adjacency matrix\n",
    "  \"\"\"\n",
    "  hhanf = HyperANF(graph)\n",
    "  adj = nx.adjacency_matrix(graph, dtype=np.float64).todense()\n",
    "  \n",
    "  # for each range in [1, degree] (note: degree is inclusive)\n",
    "  for i in range(1, degree + 1):\n",
    "    # compute matrix power\n",
    "    pw = hhanf.power(i)\n",
    "    pw = nx.adjacency_matrix(pw, dtype=np.float64).todense()\n",
    "    \n",
    "    # compute coefficient as taylor series expansion\n",
    "    # i.e. e^i / i!\n",
    "    coeff = (np.e**i) / factorial(i)\n",
    "    adj += coeff * pw\n",
    "  \n",
    "  return adj"
   ]
  },
  {
   "cell_type": "code",
   "execution_count": 9,
   "id": "295258cd",
   "metadata": {},
   "outputs": [],
   "source": [
    "lj_G_exp = truncated_graph_power_exp(lj_G, 2)"
   ]
  },
  {
   "attachments": {},
   "cell_type": "markdown",
   "id": "835b2232",
   "metadata": {},
   "source": [
    "How much did Miles Davis influence Herbie Hancock? What about Count Basie?\n",
    "\n",
    "Generally, the influence of Miles Davis should be much higher, since Hancock mention him as one of his main inspirations."
   ]
  },
  {
   "cell_type": "code",
   "execution_count": 10,
   "id": "63ec6b7e",
   "metadata": {},
   "outputs": [],
   "source": [
    "miles_davis_idx = list(lj_G.nodes()).index(rdflib.URIRef(\"http://base.semlab.io/entity/Q41\"))\n",
    "count_basie_idx = list(lj_G.nodes()).index(rdflib.URIRef(\"http://base.semlab.io/entity/Q72\"))\n",
    "herbie_hancock_idx = list(lj_G.nodes()).index(rdflib.URIRef(\"http://base.semlab.io/entity/Q493\"))"
   ]
  },
  {
   "cell_type": "code",
   "execution_count": 11,
   "id": "d2948810",
   "metadata": {},
   "outputs": [
    {
     "name": "stdout",
     "output_type": "stream",
     "text": [
      "Miles Davis influence in Herbie Hancock: 12.828072308183707\n"
     ]
    }
   ],
   "source": [
    "cp_row = lj_G_exp[herbie_hancock_idx, :]\n",
    "print(f\"Miles Davis influence in Herbie Hancock: {cp_row[miles_davis_idx]}\")"
   ]
  },
  {
   "cell_type": "code",
   "execution_count": 12,
   "id": "c9ab87da",
   "metadata": {},
   "outputs": [
    {
     "name": "stdout",
     "output_type": "stream",
     "text": [
      "Count Basie influence in Herbie Hancock: 3.6945280494653248\n"
     ]
    }
   ],
   "source": [
    "print(f\"Count Basie influence in Herbie Hancock: {cp_row[count_basie_idx]}\")"
   ]
  },
  {
   "attachments": {},
   "cell_type": "markdown",
   "id": "5c24d3b5",
   "metadata": {},
   "source": [
    "Most influential artists to Herbie Hancock"
   ]
  },
  {
   "cell_type": "code",
   "execution_count": 13,
   "id": "a5be0c0d",
   "metadata": {},
   "outputs": [
    {
     "name": "stdout",
     "output_type": "stream",
     "text": [
      "12.990232620612938: George Coleman\n",
      "12.828072308183707: Ron Carter\n",
      "12.828072308183707: Miles Davis\n",
      "12.828072308183707: Chick Corea\n",
      "9.85344684541647: Teo Macero\n",
      "9.481618662570565: Oscar Peterson\n",
      "9.481618662570565: Donald Byrd\n",
      "6.321079108380378: Gil Evans\n",
      "3.6945280494653248: Benny Green\n",
      "3.6945280494653248: Ahmad Jamal\n",
      "3.6945280494653248: Don Goldberg\n",
      "3.6945280494653248: Lester Young\n",
      "3.6945280494653248: Larry Ridley\n",
      "3.6945280494653248: Otto Hardwick\n",
      "3.6945280494653248: Ella Fitzgerald\n",
      "3.6945280494653248: Harold Mabern\n",
      "3.6945280494653248: Chico Hamilton\n",
      "3.6945280494653248: Cat Anderson\n",
      "3.6945280494653248: Dizzy Gillespie\n",
      "3.6945280494653248: George Coleman\n"
     ]
    }
   ],
   "source": [
    "for k in np.argsort(cp_row)[::-1][:20]:\n",
    "  print(f\"{cp_row[k]}: {get_semlab_label(list(lj_G.nodes)[k])}\")"
   ]
  },
  {
   "cell_type": "code",
   "execution_count": null,
   "id": "4258304a",
   "metadata": {},
   "outputs": [],
   "source": []
  }
 ],
 "metadata": {
  "kernelspec": {
   "display_name": "Python 3 (ipykernel)",
   "language": "python",
   "name": "python3"
  },
  "language_info": {
   "codemirror_mode": {
    "name": "ipython",
    "version": 3
   },
   "file_extension": ".py",
   "mimetype": "text/x-python",
   "name": "python",
   "nbconvert_exporter": "python",
   "pygments_lexer": "ipython3",
   "version": "3.11.4"
  }
 },
 "nbformat": 4,
 "nbformat_minor": 5
}
